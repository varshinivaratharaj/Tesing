{
  "cells": [
    {
      "attachments": {},
      "cell_type": "markdown",
      "metadata": {
        "id": "KLQz5mD45EQ1"
      },
      "source": [
        "# Getting started with iGraph\n",
        "\n",
        "This is the same set of tasks as in `nx.ipynb`, but using the `igraph` library instead."
      ]
    },
    {
      "attachments": {},
      "cell_type": "markdown",
      "metadata": {
        "id": "3K3t1RIGM9NC"
      },
      "source": [
        "## Setup\n",
        "\n",
        "Some necessary imports for tasks in this notebook"
      ]
    },
    {
      "cell_type": "code",
      "execution_count": 1,
      "metadata": {
        "id": "5bOhRdx8xVjv"
      },
      "outputs": [],
      "source": [
        "import igraph as ig\n",
        "import matplotlib.pyplot as plt\n",
        "import numpy as np\n",
        "\n",
        "# Please add any additional imports you may need here\n",
        "# (makes it easier to read/follow)\n",
        "\n",
        "# Uncomment *one* of the two lines below, to choose a Matplotlib backend\n",
        "# Note that the \"widget\" interactive backend requires that ipympl and ipywidgets are installed\n",
        "%matplotlib inline\n",
        "# %matplotlib widget"
      ]
    },
    {
      "cell_type": "markdown",
      "metadata": {
        "id": "u2_IOFgRxu8f"
      },
      "source": [
        "## Erdős–Rényi graphs\n",
        "\n",
        "The next cell is a basic demonstration of how to generate an Erdős–Rényi random graph, using `nx.gnp_random_graph` (as well as how to plot small-ish graphs). Note that there is the very similar `nx.gnm_random_graph` which, instead of probability $p$ of an edge accepts the total number $m$ of edges (these are simply related by $m = pn(n-1)/2$ for undirected graphs)."
      ]
    },
    {
      "cell_type": "code",
      "execution_count": 2,
      "metadata": {
        "colab": {
          "base_uri": "https://localhost:8080/",
          "height": 463
        },
        "id": "3rMpv_pP7d9u",
        "outputId": "2d6cf674-1380-4998-d2f9-9cd41877919e"
      },
      "outputs": [
        {
          "data": {
            "image/svg+xml": [
              "<?xml version=\"1.0\" encoding=\"UTF-8\"?>\n",
              "<svg xmlns=\"http://www.w3.org/2000/svg\" xmlns:xlink=\"http://www.w3.org/1999/xlink\" width=\"600pt\" height=\"600pt\" viewBox=\"0 0 600 600\" version=\"1.1\">\n",
              "<g id=\"surface2\">\n",
              "<rect x=\"0\" y=\"0\" width=\"600\" height=\"600\" style=\"fill:rgb(100%,100%,100%);fill-opacity:1;stroke:none;\"/>\n",
              "<path style=\"fill:none;stroke-width:1;stroke-linecap:butt;stroke-linejoin:miter;stroke:rgb(26.666667%,26.666667%,26.666667%);stroke-opacity:1;stroke-miterlimit:10;\" d=\"M 431.285156 485.039062 L 397.433594 461.617188 \"/>\n",
              "<path style=\"fill:none;stroke-width:1;stroke-linecap:butt;stroke-linejoin:miter;stroke:rgb(26.666667%,26.666667%,26.666667%);stroke-opacity:1;stroke-miterlimit:10;\" d=\"M 278.019531 422.742188 L 397.433594 461.617188 \"/>\n",
              "<path style=\"fill:none;stroke-width:1;stroke-linecap:butt;stroke-linejoin:miter;stroke:rgb(26.666667%,26.666667%,26.666667%);stroke-opacity:1;stroke-miterlimit:10;\" d=\"M 278.019531 422.742188 L 201.433594 306.769531 \"/>\n",
              "<path style=\"fill:none;stroke-width:1;stroke-linecap:butt;stroke-linejoin:miter;stroke:rgb(26.666667%,26.666667%,26.666667%);stroke-opacity:1;stroke-miterlimit:10;\" d=\"M 290.234375 288.152344 L 344.039062 340.386719 \"/>\n",
              "<path style=\"fill:none;stroke-width:1;stroke-linecap:butt;stroke-linejoin:miter;stroke:rgb(26.666667%,26.666667%,26.666667%);stroke-opacity:1;stroke-miterlimit:10;\" d=\"M 414.507812 364.109375 L 447.738281 285.804688 \"/>\n",
              "<path style=\"fill:none;stroke-width:1;stroke-linecap:butt;stroke-linejoin:miter;stroke:rgb(26.666667%,26.666667%,26.666667%);stroke-opacity:1;stroke-miterlimit:10;\" d=\"M 201.433594 306.769531 L 207.515625 216.972656 \"/>\n",
              "<path style=\"fill:none;stroke-width:1;stroke-linecap:butt;stroke-linejoin:miter;stroke:rgb(26.666667%,26.666667%,26.666667%);stroke-opacity:1;stroke-miterlimit:10;\" d=\"M 201.433594 306.769531 L 216.679688 350.496094 \"/>\n",
              "<path style=\"fill:none;stroke-width:1;stroke-linecap:butt;stroke-linejoin:miter;stroke:rgb(26.666667%,26.666667%,26.666667%);stroke-opacity:1;stroke-miterlimit:10;\" d=\"M 461.917969 303.140625 L 325.570312 233.589844 \"/>\n",
              "<path style=\"fill:none;stroke-width:1;stroke-linecap:butt;stroke-linejoin:miter;stroke:rgb(26.666667%,26.666667%,26.666667%);stroke-opacity:1;stroke-miterlimit:10;\" d=\"M 382.507812 285.597656 L 390.628906 253.785156 \"/>\n",
              "<path style=\"fill:none;stroke-width:1;stroke-linecap:butt;stroke-linejoin:miter;stroke:rgb(26.666667%,26.666667%,26.666667%);stroke-opacity:1;stroke-miterlimit:10;\" d=\"M 344.039062 340.386719 L 390.628906 253.785156 \"/>\n",
              "<path style=\"fill:none;stroke-width:1;stroke-linecap:butt;stroke-linejoin:miter;stroke:rgb(26.666667%,26.666667%,26.666667%);stroke-opacity:1;stroke-miterlimit:10;\" d=\"M 325.570312 233.589844 L 390.628906 253.785156 \"/>\n",
              "<path style=\"fill:none;stroke-width:1;stroke-linecap:butt;stroke-linejoin:miter;stroke:rgb(26.666667%,26.666667%,26.666667%);stroke-opacity:1;stroke-miterlimit:10;\" d=\"M 290.234375 288.152344 L 226.070312 252.351562 \"/>\n",
              "<path style=\"fill:none;stroke-width:1;stroke-linecap:butt;stroke-linejoin:miter;stroke:rgb(26.666667%,26.666667%,26.666667%);stroke-opacity:1;stroke-miterlimit:10;\" d=\"M 201.433594 306.769531 L 226.070312 252.351562 \"/>\n",
              "<path style=\"fill:none;stroke-width:1;stroke-linecap:butt;stroke-linejoin:miter;stroke:rgb(26.666667%,26.666667%,26.666667%);stroke-opacity:1;stroke-miterlimit:10;\" d=\"M 325.570312 233.589844 L 226.070312 252.351562 \"/>\n",
              "<path style=\"fill:none;stroke-width:1;stroke-linecap:butt;stroke-linejoin:miter;stroke:rgb(26.666667%,26.666667%,26.666667%);stroke-opacity:1;stroke-miterlimit:10;\" d=\"M 431.285156 485.039062 L 363.511719 382.621094 \"/>\n",
              "<path style=\"fill:none;stroke-width:1;stroke-linecap:butt;stroke-linejoin:miter;stroke:rgb(26.666667%,26.666667%,26.666667%);stroke-opacity:1;stroke-miterlimit:10;\" d=\"M 226.070312 252.351562 L 260.984375 348.019531 \"/>\n",
              "<path style=\"fill:none;stroke-width:1;stroke-linecap:butt;stroke-linejoin:miter;stroke:rgb(26.666667%,26.666667%,26.666667%);stroke-opacity:1;stroke-miterlimit:10;\" d=\"M 325.570312 233.589844 L 249.429688 169.566406 \"/>\n",
              "<path style=\"fill:none;stroke-width:1;stroke-linecap:butt;stroke-linejoin:miter;stroke:rgb(26.666667%,26.666667%,26.666667%);stroke-opacity:1;stroke-miterlimit:10;\" d=\"M 382.507812 285.597656 L 341.023438 305.386719 \"/>\n",
              "<path style=\"fill:none;stroke-width:1;stroke-linecap:butt;stroke-linejoin:miter;stroke:rgb(26.666667%,26.666667%,26.666667%);stroke-opacity:1;stroke-miterlimit:10;\" d=\"M 192.152344 331.601562 L 341.023438 305.386719 \"/>\n",
              "<path style=\"fill:none;stroke-width:1;stroke-linecap:butt;stroke-linejoin:miter;stroke:rgb(26.666667%,26.666667%,26.666667%);stroke-opacity:1;stroke-miterlimit:10;\" d=\"M 441.421875 228.855469 L 341.023438 305.386719 \"/>\n",
              "<path style=\"fill:none;stroke-width:1;stroke-linecap:butt;stroke-linejoin:miter;stroke:rgb(26.666667%,26.666667%,26.666667%);stroke-opacity:1;stroke-miterlimit:10;\" d=\"M 397.433594 461.617188 L 424.101562 404.703125 \"/>\n",
              "<path style=\"fill:none;stroke-width:1;stroke-linecap:butt;stroke-linejoin:miter;stroke:rgb(26.666667%,26.666667%,26.666667%);stroke-opacity:1;stroke-miterlimit:10;\" d=\"M 344.039062 340.386719 L 411.03125 417.921875 \"/>\n",
              "<path style=\"fill:none;stroke-width:1;stroke-linecap:butt;stroke-linejoin:miter;stroke:rgb(26.666667%,26.666667%,26.666667%);stroke-opacity:1;stroke-miterlimit:10;\" d=\"M 496.316406 496.359375 L 411.03125 417.921875 \"/>\n",
              "<path style=\"fill:none;stroke-width:1;stroke-linecap:butt;stroke-linejoin:miter;stroke:rgb(26.666667%,26.666667%,26.666667%);stroke-opacity:1;stroke-miterlimit:10;\" d=\"M 262.746094 277.230469 L 320.722656 300.683594 \"/>\n",
              "<path style=\"fill:none;stroke-width:1;stroke-linecap:butt;stroke-linejoin:miter;stroke:rgb(26.666667%,26.666667%,26.666667%);stroke-opacity:1;stroke-miterlimit:10;\" d=\"M 192.152344 331.601562 L 320.722656 300.683594 \"/>\n",
              "<path style=\"fill:none;stroke-width:1;stroke-linecap:butt;stroke-linejoin:miter;stroke:rgb(26.666667%,26.666667%,26.666667%);stroke-opacity:1;stroke-miterlimit:10;\" d=\"M 414.507812 364.109375 L 320.722656 300.683594 \"/>\n",
              "<path style=\"fill:none;stroke-width:1;stroke-linecap:butt;stroke-linejoin:miter;stroke:rgb(26.666667%,26.666667%,26.666667%);stroke-opacity:1;stroke-miterlimit:10;\" d=\"M 390.628906 253.785156 L 320.722656 300.683594 \"/>\n",
              "<path style=\"fill:none;stroke-width:1;stroke-linecap:butt;stroke-linejoin:miter;stroke:rgb(26.666667%,26.666667%,26.666667%);stroke-opacity:1;stroke-miterlimit:10;\" d=\"M 281.445312 196.808594 L 314.796875 202.53125 \"/>\n",
              "<path style=\"fill:none;stroke-width:1;stroke-linecap:butt;stroke-linejoin:miter;stroke:rgb(26.666667%,26.666667%,26.666667%);stroke-opacity:1;stroke-miterlimit:10;\" d=\"M 174.542969 222.550781 L 314.796875 202.53125 \"/>\n",
              "<path style=\"fill:none;stroke-width:1;stroke-linecap:butt;stroke-linejoin:miter;stroke:rgb(26.666667%,26.666667%,26.666667%);stroke-opacity:1;stroke-miterlimit:10;\" d=\"M 363.511719 382.621094 L 247.871094 312.160156 \"/>\n",
              "<path style=\"fill:none;stroke-width:1;stroke-linecap:butt;stroke-linejoin:miter;stroke:rgb(26.666667%,26.666667%,26.666667%);stroke-opacity:1;stroke-miterlimit:10;\" d=\"M 278.019531 422.742188 L 368.160156 340.453125 \"/>\n",
              "<path style=\"fill:none;stroke-width:1;stroke-linecap:butt;stroke-linejoin:miter;stroke:rgb(26.666667%,26.666667%,26.666667%);stroke-opacity:1;stroke-miterlimit:10;\" d=\"M 447.738281 285.804688 L 368.160156 340.453125 \"/>\n",
              "<path style=\"fill:none;stroke-width:1;stroke-linecap:butt;stroke-linejoin:miter;stroke:rgb(26.666667%,26.666667%,26.666667%);stroke-opacity:1;stroke-miterlimit:10;\" d=\"M 441.421875 228.855469 L 533.398438 170.667969 \"/>\n",
              "<path style=\"fill:none;stroke-width:1;stroke-linecap:butt;stroke-linejoin:miter;stroke:rgb(26.666667%,26.666667%,26.666667%);stroke-opacity:1;stroke-miterlimit:10;\" d=\"M 262.746094 277.230469 L 295.445312 320.074219 \"/>\n",
              "<path style=\"fill:none;stroke-width:1;stroke-linecap:butt;stroke-linejoin:miter;stroke:rgb(26.666667%,26.666667%,26.666667%);stroke-opacity:1;stroke-miterlimit:10;\" d=\"M 192.152344 331.601562 L 295.445312 320.074219 \"/>\n",
              "<path style=\"fill:none;stroke-width:1;stroke-linecap:butt;stroke-linejoin:miter;stroke:rgb(26.666667%,26.666667%,26.666667%);stroke-opacity:1;stroke-miterlimit:10;\" d=\"M 363.511719 382.621094 L 295.445312 320.074219 \"/>\n",
              "<path style=\"fill:none;stroke-width:1;stroke-linecap:butt;stroke-linejoin:miter;stroke:rgb(26.666667%,26.666667%,26.666667%);stroke-opacity:1;stroke-miterlimit:10;\" d=\"M 388.234375 297.015625 L 295.445312 320.074219 \"/>\n",
              "<path style=\"fill:none;stroke-width:1;stroke-linecap:butt;stroke-linejoin:miter;stroke:rgb(26.666667%,26.666667%,26.666667%);stroke-opacity:1;stroke-miterlimit:10;\" d=\"M 382.507812 285.597656 L 478.097656 285.816406 \"/>\n",
              "<path style=\"fill:none;stroke-width:1;stroke-linecap:butt;stroke-linejoin:miter;stroke:rgb(26.666667%,26.666667%,26.666667%);stroke-opacity:1;stroke-miterlimit:10;\" d=\"M 447.738281 285.804688 L 478.097656 285.816406 \"/>\n",
              "<path style=\"fill:none;stroke-width:1;stroke-linecap:butt;stroke-linejoin:miter;stroke:rgb(26.666667%,26.666667%,26.666667%);stroke-opacity:1;stroke-miterlimit:10;\" d=\"M 441.421875 228.855469 L 478.097656 285.816406 \"/>\n",
              "<path style=\"fill:none;stroke-width:1;stroke-linecap:butt;stroke-linejoin:miter;stroke:rgb(26.666667%,26.666667%,26.666667%);stroke-opacity:1;stroke-miterlimit:10;\" d=\"M 411.03125 417.921875 L 437.429688 345.574219 \"/>\n",
              "<path style=\"fill:none;stroke-width:1;stroke-linecap:butt;stroke-linejoin:miter;stroke:rgb(26.666667%,26.666667%,26.666667%);stroke-opacity:1;stroke-miterlimit:10;\" d=\"M 478.097656 285.816406 L 437.429688 345.574219 \"/>\n",
              "<path style=\"fill:none;stroke-width:1;stroke-linecap:butt;stroke-linejoin:miter;stroke:rgb(26.666667%,26.666667%,26.666667%);stroke-opacity:1;stroke-miterlimit:10;\" d=\"M 461.917969 303.140625 L 566.027344 354.511719 \"/>\n",
              "<path style=\"fill:none;stroke-width:1;stroke-linecap:butt;stroke-linejoin:miter;stroke:rgb(26.666667%,26.666667%,26.666667%);stroke-opacity:1;stroke-miterlimit:10;\" d=\"M 281.445312 196.808594 L 367.453125 187.40625 \"/>\n",
              "<path style=\"fill:none;stroke-width:1;stroke-linecap:butt;stroke-linejoin:miter;stroke:rgb(26.666667%,26.666667%,26.666667%);stroke-opacity:1;stroke-miterlimit:10;\" d=\"M 325.570312 233.589844 L 367.453125 187.40625 \"/>\n",
              "<path style=\"fill:none;stroke-width:1;stroke-linecap:butt;stroke-linejoin:miter;stroke:rgb(26.666667%,26.666667%,26.666667%);stroke-opacity:1;stroke-miterlimit:10;\" d=\"M 388.234375 297.015625 L 367.453125 187.40625 \"/>\n",
              "<path style=\"fill:none;stroke-width:1;stroke-linecap:butt;stroke-linejoin:miter;stroke:rgb(26.666667%,26.666667%,26.666667%);stroke-opacity:1;stroke-miterlimit:10;\" d=\"M 281.445312 196.808594 L 322.960938 156.984375 \"/>\n",
              "<path style=\"fill:none;stroke-width:1;stroke-linecap:butt;stroke-linejoin:miter;stroke:rgb(26.666667%,26.666667%,26.666667%);stroke-opacity:1;stroke-miterlimit:10;\" d=\"M 367.453125 187.40625 L 322.960938 156.984375 \"/>\n",
              "<path style=\"fill:none;stroke-width:1;stroke-linecap:butt;stroke-linejoin:miter;stroke:rgb(26.666667%,26.666667%,26.666667%);stroke-opacity:1;stroke-miterlimit:10;\" d=\"M 325.570312 233.589844 L 234.355469 284.449219 \"/>\n",
              "<path style=\"fill:none;stroke-width:1;stroke-linecap:butt;stroke-linejoin:miter;stroke:rgb(26.666667%,26.666667%,26.666667%);stroke-opacity:1;stroke-miterlimit:10;\" d=\"M 262.746094 277.230469 L 261.101562 326.609375 \"/>\n",
              "<path style=\"fill:none;stroke-width:1;stroke-linecap:butt;stroke-linejoin:miter;stroke:rgb(26.666667%,26.666667%,26.666667%);stroke-opacity:1;stroke-miterlimit:10;\" d=\"M 206.101562 381.375 L 261.101562 326.609375 \"/>\n",
              "<path style=\"fill:none;stroke-width:1;stroke-linecap:butt;stroke-linejoin:miter;stroke:rgb(26.666667%,26.666667%,26.666667%);stroke-opacity:1;stroke-miterlimit:10;\" d=\"M 174.542969 222.550781 L 261.101562 326.609375 \"/>\n",
              "<path style=\"fill:none;stroke-width:1;stroke-linecap:butt;stroke-linejoin:miter;stroke:rgb(26.666667%,26.666667%,26.666667%);stroke-opacity:1;stroke-miterlimit:10;\" d=\"M 216.679688 350.496094 L 186.539062 281.355469 \"/>\n",
              "<path style=\"fill:none;stroke-width:1;stroke-linecap:butt;stroke-linejoin:miter;stroke:rgb(26.666667%,26.666667%,26.666667%);stroke-opacity:1;stroke-miterlimit:10;\" d=\"M 234.355469 284.449219 L 186.539062 281.355469 \"/>\n",
              "<path style=\"fill:none;stroke-width:1;stroke-linecap:butt;stroke-linejoin:miter;stroke:rgb(26.666667%,26.666667%,26.666667%);stroke-opacity:1;stroke-miterlimit:10;\" d=\"M 314.796875 202.53125 L 304.296875 226.269531 \"/>\n",
              "<path style=\"fill:none;stroke-width:1;stroke-linecap:butt;stroke-linejoin:miter;stroke:rgb(26.666667%,26.666667%,26.666667%);stroke-opacity:1;stroke-miterlimit:10;\" d=\"M 295.445312 320.074219 L 304.296875 226.269531 \"/>\n",
              "<path style=\"fill:none;stroke-width:1;stroke-linecap:butt;stroke-linejoin:miter;stroke:rgb(26.666667%,26.666667%,26.666667%);stroke-opacity:1;stroke-miterlimit:10;\" d=\"M 234.355469 284.449219 L 304.296875 226.269531 \"/>\n",
              "<path style=\"fill:none;stroke-width:1;stroke-linecap:butt;stroke-linejoin:miter;stroke:rgb(26.666667%,26.666667%,26.666667%);stroke-opacity:1;stroke-miterlimit:10;\" d=\"M 447.738281 285.804688 L 418.035156 197.070312 \"/>\n",
              "<path style=\"fill:none;stroke-width:1;stroke-linecap:butt;stroke-linejoin:miter;stroke:rgb(26.666667%,26.666667%,26.666667%);stroke-opacity:1;stroke-miterlimit:10;\" d=\"M 441.421875 228.855469 L 418.035156 197.070312 \"/>\n",
              "<path style=\"fill:none;stroke-width:1;stroke-linecap:butt;stroke-linejoin:miter;stroke:rgb(26.666667%,26.666667%,26.666667%);stroke-opacity:1;stroke-miterlimit:10;\" d=\"M 325.570312 233.589844 L 418.035156 197.070312 \"/>\n",
              "<path style=\"fill:none;stroke-width:1;stroke-linecap:butt;stroke-linejoin:miter;stroke:rgb(26.666667%,26.666667%,26.666667%);stroke-opacity:1;stroke-miterlimit:10;\" d=\"M 216.679688 350.496094 L 234.1875 388.445312 \"/>\n",
              "<path style=\"fill:none;stroke-width:1;stroke-linecap:butt;stroke-linejoin:miter;stroke:rgb(26.666667%,26.666667%,26.666667%);stroke-opacity:1;stroke-miterlimit:10;\" d=\"M 234.355469 284.449219 L 234.1875 388.445312 \"/>\n",
              "<path style=\"fill:none;stroke-width:1;stroke-linecap:butt;stroke-linejoin:miter;stroke:rgb(26.666667%,26.666667%,26.666667%);stroke-opacity:1;stroke-miterlimit:10;\" d=\"M 278.019531 422.742188 L 256.148438 459.101562 \"/>\n",
              "<path style=\"fill:none;stroke-width:1;stroke-linecap:butt;stroke-linejoin:miter;stroke:rgb(26.666667%,26.666667%,26.666667%);stroke-opacity:1;stroke-miterlimit:10;\" d=\"M 461.917969 303.140625 L 407.1875 310.671875 \"/>\n",
              "<path style=\"fill:none;stroke-width:1;stroke-linecap:butt;stroke-linejoin:miter;stroke:rgb(26.666667%,26.666667%,26.666667%);stroke-opacity:1;stroke-miterlimit:10;\" d=\"M 424.101562 404.703125 L 407.1875 310.671875 \"/>\n",
              "<path style=\"fill:none;stroke-width:1;stroke-linecap:butt;stroke-linejoin:miter;stroke:rgb(26.666667%,26.666667%,26.666667%);stroke-opacity:1;stroke-miterlimit:10;\" d=\"M 314.796875 202.53125 L 407.1875 310.671875 \"/>\n",
              "<path style=\"fill:none;stroke-width:1;stroke-linecap:butt;stroke-linejoin:miter;stroke:rgb(26.666667%,26.666667%,26.666667%);stroke-opacity:1;stroke-miterlimit:10;\" d=\"M 108.0625 373.238281 L 20 377.425781 \"/>\n",
              "<path style=\"fill:none;stroke-width:1;stroke-linecap:butt;stroke-linejoin:miter;stroke:rgb(26.666667%,26.666667%,26.666667%);stroke-opacity:1;stroke-miterlimit:10;\" d=\"M 461.917969 303.140625 L 348.996094 354.625 \"/>\n",
              "<path style=\"fill:none;stroke-width:1;stroke-linecap:butt;stroke-linejoin:miter;stroke:rgb(26.666667%,26.666667%,26.666667%);stroke-opacity:1;stroke-miterlimit:10;\" d=\"M 344.039062 340.386719 L 348.996094 354.625 \"/>\n",
              "<path style=\"fill:none;stroke-width:1;stroke-linecap:butt;stroke-linejoin:miter;stroke:rgb(26.666667%,26.666667%,26.666667%);stroke-opacity:1;stroke-miterlimit:10;\" d=\"M 216.679688 350.496094 L 348.996094 354.625 \"/>\n",
              "<path style=\"fill:none;stroke-width:1;stroke-linecap:butt;stroke-linejoin:miter;stroke:rgb(26.666667%,26.666667%,26.666667%);stroke-opacity:1;stroke-miterlimit:10;\" d=\"M 368.160156 340.453125 L 348.996094 354.625 \"/>\n",
              "<path style=\"fill:none;stroke-width:1;stroke-linecap:butt;stroke-linejoin:miter;stroke:rgb(26.666667%,26.666667%,26.666667%);stroke-opacity:1;stroke-miterlimit:10;\" d=\"M 262.746094 277.230469 L 243.125 198.710938 \"/>\n",
              "<path style=\"fill:none;stroke-width:1;stroke-linecap:butt;stroke-linejoin:miter;stroke:rgb(26.666667%,26.666667%,26.666667%);stroke-opacity:1;stroke-miterlimit:10;\" d=\"M 278.019531 422.742188 L 358.5625 420.550781 \"/>\n",
              "<path style=\"fill:none;stroke-width:1;stroke-linecap:butt;stroke-linejoin:miter;stroke:rgb(26.666667%,26.666667%,26.666667%);stroke-opacity:1;stroke-miterlimit:10;\" d=\"M 368.160156 340.453125 L 358.5625 420.550781 \"/>\n",
              "<path style=\"fill:none;stroke-width:1;stroke-linecap:butt;stroke-linejoin:miter;stroke:rgb(26.666667%,26.666667%,26.666667%);stroke-opacity:1;stroke-miterlimit:10;\" d=\"M 407.1875 310.671875 L 358.5625 420.550781 \"/>\n",
              "<path style=\"fill:none;stroke-width:1;stroke-linecap:butt;stroke-linejoin:miter;stroke:rgb(26.666667%,26.666667%,26.666667%);stroke-opacity:1;stroke-miterlimit:10;\" d=\"M 108.0625 373.238281 L 100.683594 297.550781 \"/>\n",
              "<path style=\"fill:none;stroke-width:1;stroke-linecap:butt;stroke-linejoin:miter;stroke:rgb(26.666667%,26.666667%,26.666667%);stroke-opacity:1;stroke-miterlimit:10;\" d=\"M 108.0625 373.238281 L 103.476562 313.183594 \"/>\n",
              "<path style=\"fill:none;stroke-width:1;stroke-linecap:butt;stroke-linejoin:miter;stroke:rgb(26.666667%,26.666667%,26.666667%);stroke-opacity:1;stroke-miterlimit:10;\" d=\"M 206.101562 381.375 L 103.476562 313.183594 \"/>\n",
              "<path style=\"fill:none;stroke-width:1;stroke-linecap:butt;stroke-linejoin:miter;stroke:rgb(26.666667%,26.666667%,26.666667%);stroke-opacity:1;stroke-miterlimit:10;\" d=\"M 262.746094 277.230469 L 184.472656 237.582031 \"/>\n",
              "<path style=\"fill:none;stroke-width:1;stroke-linecap:butt;stroke-linejoin:miter;stroke:rgb(26.666667%,26.666667%,26.666667%);stroke-opacity:1;stroke-miterlimit:10;\" d=\"M 249.429688 169.566406 L 184.472656 237.582031 \"/>\n",
              "<path style=\"fill:none;stroke-width:1;stroke-linecap:butt;stroke-linejoin:miter;stroke:rgb(26.666667%,26.666667%,26.666667%);stroke-opacity:1;stroke-miterlimit:10;\" d=\"M 103.476562 313.183594 L 184.472656 237.582031 \"/>\n",
              "<path style=\"fill:none;stroke-width:1;stroke-linecap:butt;stroke-linejoin:miter;stroke:rgb(26.666667%,26.666667%,26.666667%);stroke-opacity:1;stroke-miterlimit:10;\" d=\"M 281.445312 196.808594 L 241.707031 225.039062 \"/>\n",
              "<path style=\"fill:none;stroke-width:1;stroke-linecap:butt;stroke-linejoin:miter;stroke:rgb(26.666667%,26.666667%,26.666667%);stroke-opacity:1;stroke-miterlimit:10;\" d=\"M 226.070312 252.351562 L 241.707031 225.039062 \"/>\n",
              "<path style=\"fill:none;stroke-width:1;stroke-linecap:butt;stroke-linejoin:miter;stroke:rgb(26.666667%,26.666667%,26.666667%);stroke-opacity:1;stroke-miterlimit:10;\" d=\"M 247.871094 312.160156 L 241.707031 225.039062 \"/>\n",
              "<path style=\"fill:none;stroke-width:1;stroke-linecap:butt;stroke-linejoin:miter;stroke:rgb(26.666667%,26.666667%,26.666667%);stroke-opacity:1;stroke-miterlimit:10;\" d=\"M 243.125 198.710938 L 241.707031 225.039062 \"/>\n",
              "<path style=\"fill:none;stroke-width:1;stroke-linecap:butt;stroke-linejoin:miter;stroke:rgb(26.666667%,26.666667%,26.666667%);stroke-opacity:1;stroke-miterlimit:10;\" d=\"M 388.234375 297.015625 L 432.691406 315.375 \"/>\n",
              "<path style=\"fill:none;stroke-width:1;stroke-linecap:butt;stroke-linejoin:miter;stroke:rgb(26.666667%,26.666667%,26.666667%);stroke-opacity:1;stroke-miterlimit:10;\" d=\"M 295.445312 320.074219 L 432.691406 315.375 \"/>\n",
              "<path style=\"fill:none;stroke-width:1;stroke-linecap:butt;stroke-linejoin:miter;stroke:rgb(26.666667%,26.666667%,26.666667%);stroke-opacity:1;stroke-miterlimit:10;\" d=\"M 478.097656 285.816406 L 432.691406 315.375 \"/>\n",
              "<path style=\"fill:none;stroke-width:1;stroke-linecap:butt;stroke-linejoin:miter;stroke:rgb(26.666667%,26.666667%,26.666667%);stroke-opacity:1;stroke-miterlimit:10;\" d=\"M 493.382812 393.273438 L 432.691406 315.375 \"/>\n",
              "<path style=\"fill:none;stroke-width:1;stroke-linecap:butt;stroke-linejoin:miter;stroke:rgb(26.666667%,26.666667%,26.666667%);stroke-opacity:1;stroke-miterlimit:10;\" d=\"M 192.152344 331.601562 L 209.03125 426.246094 \"/>\n",
              "<path style=\"fill:none;stroke-width:1;stroke-linecap:butt;stroke-linejoin:miter;stroke:rgb(26.666667%,26.666667%,26.666667%);stroke-opacity:1;stroke-miterlimit:10;\" d=\"M 206.101562 381.375 L 209.03125 426.246094 \"/>\n",
              "<path style=\"fill:none;stroke-width:1;stroke-linecap:butt;stroke-linejoin:miter;stroke:rgb(26.666667%,26.666667%,26.666667%);stroke-opacity:1;stroke-miterlimit:10;\" d=\"M 249.429688 169.566406 L 299.078125 243.113281 \"/>\n",
              "<path style=\"fill:none;stroke-width:1;stroke-linecap:butt;stroke-linejoin:miter;stroke:rgb(26.666667%,26.666667%,26.666667%);stroke-opacity:1;stroke-miterlimit:10;\" d=\"M 368.160156 340.453125 L 299.078125 243.113281 \"/>\n",
              "<path style=\"fill:none;stroke-width:1;stroke-linecap:butt;stroke-linejoin:miter;stroke:rgb(26.666667%,26.666667%,26.666667%);stroke-opacity:1;stroke-miterlimit:10;\" d=\"M 243.125 198.710938 L 299.078125 243.113281 \"/>\n",
              "<path style=\"fill:none;stroke-width:1;stroke-linecap:butt;stroke-linejoin:miter;stroke:rgb(26.666667%,26.666667%,26.666667%);stroke-opacity:1;stroke-miterlimit:10;\" d=\"M 197.800781 442.445312 L 293.898438 471.386719 \"/>\n",
              "<path style=\"fill:none;stroke-width:1;stroke-linecap:butt;stroke-linejoin:miter;stroke:rgb(26.666667%,26.666667%,26.666667%);stroke-opacity:1;stroke-miterlimit:10;\" d=\"M 411.03125 417.921875 L 293.898438 471.386719 \"/>\n",
              "<path style=\"fill:none;stroke-width:1;stroke-linecap:butt;stroke-linejoin:miter;stroke:rgb(26.666667%,26.666667%,26.666667%);stroke-opacity:1;stroke-miterlimit:10;\" d=\"M 358.5625 420.550781 L 293.898438 471.386719 \"/>\n",
              "<path style=\"fill:none;stroke-width:1;stroke-linecap:butt;stroke-linejoin:miter;stroke:rgb(26.666667%,26.666667%,26.666667%);stroke-opacity:1;stroke-miterlimit:10;\" d=\"M 209.03125 426.246094 L 293.898438 471.386719 \"/>\n",
              "<path style=\"fill:none;stroke-width:1;stroke-linecap:butt;stroke-linejoin:miter;stroke:rgb(26.666667%,26.666667%,26.666667%);stroke-opacity:1;stroke-miterlimit:10;\" d=\"M 207.515625 216.972656 L 146.417969 249.144531 \"/>\n",
              "<path style=\"fill:none;stroke-width:1;stroke-linecap:butt;stroke-linejoin:miter;stroke:rgb(26.666667%,26.666667%,26.666667%);stroke-opacity:1;stroke-miterlimit:10;\" d=\"M 226.070312 252.351562 L 146.417969 249.144531 \"/>\n",
              "<path style=\"fill:none;stroke-width:1;stroke-linecap:butt;stroke-linejoin:miter;stroke:rgb(26.666667%,26.666667%,26.666667%);stroke-opacity:1;stroke-miterlimit:10;\" d=\"M 247.871094 312.160156 L 146.417969 249.144531 \"/>\n",
              "<path style=\"fill:none;stroke-width:1;stroke-linecap:butt;stroke-linejoin:miter;stroke:rgb(26.666667%,26.666667%,26.666667%);stroke-opacity:1;stroke-miterlimit:10;\" d=\"M 192.152344 331.601562 L 53.085938 298.675781 \"/>\n",
              "<path style=\"fill:none;stroke-width:1;stroke-linecap:butt;stroke-linejoin:miter;stroke:rgb(26.666667%,26.666667%,26.666667%);stroke-opacity:1;stroke-miterlimit:10;\" d=\"M 108.0625 373.238281 L 278.550781 394.945312 \"/>\n",
              "<path style=\"fill:none;stroke-width:1;stroke-linecap:butt;stroke-linejoin:miter;stroke:rgb(26.666667%,26.666667%,26.666667%);stroke-opacity:1;stroke-miterlimit:10;\" d=\"M 363.511719 382.621094 L 278.550781 394.945312 \"/>\n",
              "<path style=\"fill:none;stroke-width:1;stroke-linecap:butt;stroke-linejoin:miter;stroke:rgb(26.666667%,26.666667%,26.666667%);stroke-opacity:1;stroke-miterlimit:10;\" d=\"M 341.023438 305.386719 L 278.550781 394.945312 \"/>\n",
              "<path style=\"fill:none;stroke-width:1;stroke-linecap:butt;stroke-linejoin:miter;stroke:rgb(26.666667%,26.666667%,26.666667%);stroke-opacity:1;stroke-miterlimit:10;\" d=\"M 424.101562 404.703125 L 278.550781 394.945312 \"/>\n",
              "<path style=\"fill:none;stroke-width:1;stroke-linecap:butt;stroke-linejoin:miter;stroke:rgb(26.666667%,26.666667%,26.666667%);stroke-opacity:1;stroke-miterlimit:10;\" d=\"M 261.101562 326.609375 L 278.550781 394.945312 \"/>\n",
              "<path style=\"fill:none;stroke-width:1;stroke-linecap:butt;stroke-linejoin:miter;stroke:rgb(26.666667%,26.666667%,26.666667%);stroke-opacity:1;stroke-miterlimit:10;\" d=\"M 256.148438 459.101562 L 278.550781 394.945312 \"/>\n",
              "<path style=\"fill:none;stroke-width:1;stroke-linecap:butt;stroke-linejoin:miter;stroke:rgb(26.666667%,26.666667%,26.666667%);stroke-opacity:1;stroke-miterlimit:10;\" d=\"M 344.039062 340.386719 L 285.050781 376.859375 \"/>\n",
              "<path style=\"fill:none;stroke-width:1;stroke-linecap:butt;stroke-linejoin:miter;stroke:rgb(26.666667%,26.666667%,26.666667%);stroke-opacity:1;stroke-miterlimit:10;\" d=\"M 256.148438 459.101562 L 285.050781 376.859375 \"/>\n",
              "<path style=\"fill:none;stroke-width:1;stroke-linecap:butt;stroke-linejoin:miter;stroke:rgb(26.666667%,26.666667%,26.666667%);stroke-opacity:1;stroke-miterlimit:10;\" d=\"M 209.03125 426.246094 L 285.050781 376.859375 \"/>\n",
              "<path style=\"fill:none;stroke-width:1;stroke-linecap:butt;stroke-linejoin:miter;stroke:rgb(26.666667%,26.666667%,26.666667%);stroke-opacity:1;stroke-miterlimit:10;\" d=\"M 278.550781 394.945312 L 285.050781 376.859375 \"/>\n",
              "<path style=\"fill:none;stroke-width:1;stroke-linecap:butt;stroke-linejoin:miter;stroke:rgb(26.666667%,26.666667%,26.666667%);stroke-opacity:1;stroke-miterlimit:10;\" d=\"M 207.515625 216.972656 L 349.589844 246.664062 \"/>\n",
              "<path style=\"fill:none;stroke-width:1;stroke-linecap:butt;stroke-linejoin:miter;stroke:rgb(26.666667%,26.666667%,26.666667%);stroke-opacity:1;stroke-miterlimit:10;\" d=\"M 322.960938 156.984375 L 349.589844 246.664062 \"/>\n",
              "<path style=\"fill:none;stroke-width:1;stroke-linecap:butt;stroke-linejoin:miter;stroke:rgb(26.666667%,26.666667%,26.666667%);stroke-opacity:1;stroke-miterlimit:10;\" d=\"M 418.035156 197.070312 L 349.589844 246.664062 \"/>\n",
              "<path style=\"fill:none;stroke-width:1;stroke-linecap:butt;stroke-linejoin:miter;stroke:rgb(26.666667%,26.666667%,26.666667%);stroke-opacity:1;stroke-miterlimit:10;\" d=\"M 299.078125 243.113281 L 349.589844 246.664062 \"/>\n",
              "<path style=\"fill:none;stroke-width:1;stroke-linecap:butt;stroke-linejoin:miter;stroke:rgb(26.666667%,26.666667%,26.666667%);stroke-opacity:1;stroke-miterlimit:10;\" d=\"M 285.050781 376.859375 L 349.589844 246.664062 \"/>\n",
              "<path style=\"fill:none;stroke-width:1;stroke-linecap:butt;stroke-linejoin:miter;stroke:rgb(26.666667%,26.666667%,26.666667%);stroke-opacity:1;stroke-miterlimit:10;\" d=\"M 197.800781 442.445312 L 135.128906 420.410156 \"/>\n",
              "<path style=\"fill:none;stroke-width:1;stroke-linecap:butt;stroke-linejoin:miter;stroke:rgb(26.666667%,26.666667%,26.666667%);stroke-opacity:1;stroke-miterlimit:10;\" d=\"M 441.421875 228.855469 L 322.691406 277.613281 \"/>\n",
              "<path style=\"fill:none;stroke-width:1;stroke-linecap:butt;stroke-linejoin:miter;stroke:rgb(26.666667%,26.666667%,26.666667%);stroke-opacity:1;stroke-miterlimit:10;\" d=\"M 363.511719 382.621094 L 322.691406 277.613281 \"/>\n",
              "<path style=\"fill:none;stroke-width:1;stroke-linecap:butt;stroke-linejoin:miter;stroke:rgb(26.666667%,26.666667%,26.666667%);stroke-opacity:1;stroke-miterlimit:10;\" d=\"M 186.539062 281.355469 L 322.691406 277.613281 \"/>\n",
              "<path style=\"fill:none;stroke-width:1;stroke-linecap:butt;stroke-linejoin:miter;stroke:rgb(26.666667%,26.666667%,26.666667%);stroke-opacity:1;stroke-miterlimit:10;\" d=\"M 241.707031 225.039062 L 322.691406 277.613281 \"/>\n",
              "<path style=\"fill:none;stroke-width:1;stroke-linecap:butt;stroke-linejoin:miter;stroke:rgb(26.666667%,26.666667%,26.666667%);stroke-opacity:1;stroke-miterlimit:10;\" d=\"M 432.691406 315.375 L 322.691406 277.613281 \"/>\n",
              "<path style=\"fill:none;stroke-width:1;stroke-linecap:butt;stroke-linejoin:miter;stroke:rgb(26.666667%,26.666667%,26.666667%);stroke-opacity:1;stroke-miterlimit:10;\" d=\"M 349.589844 246.664062 L 322.691406 277.613281 \"/>\n",
              "<path style=\"fill:none;stroke-width:1;stroke-linecap:butt;stroke-linejoin:miter;stroke:rgb(26.666667%,26.666667%,26.666667%);stroke-opacity:1;stroke-miterlimit:10;\" d=\"M 174.542969 222.550781 L 64.246094 253.285156 \"/>\n",
              "<path style=\"fill:none;stroke-width:1;stroke-linecap:butt;stroke-linejoin:miter;stroke:rgb(26.666667%,26.666667%,26.666667%);stroke-opacity:1;stroke-miterlimit:10;\" d=\"M 100.683594 297.550781 L 64.246094 253.285156 \"/>\n",
              "<path style=\"fill:none;stroke-width:1;stroke-linecap:butt;stroke-linejoin:miter;stroke:rgb(26.666667%,26.666667%,26.666667%);stroke-opacity:1;stroke-miterlimit:10;\" d=\"M 103.476562 313.183594 L 64.246094 253.285156 \"/>\n",
              "<path style=\"fill:none;stroke-width:1;stroke-linecap:butt;stroke-linejoin:miter;stroke:rgb(26.666667%,26.666667%,26.666667%);stroke-opacity:1;stroke-miterlimit:10;\" d=\"M 53.085938 298.675781 L 64.246094 253.285156 \"/>\n",
              "<path style=\"fill:none;stroke-width:1;stroke-linecap:butt;stroke-linejoin:miter;stroke:rgb(26.666667%,26.666667%,26.666667%);stroke-opacity:1;stroke-miterlimit:10;\" d=\"M 344.039062 340.386719 L 391.609375 334.660156 \"/>\n",
              "<path style=\"fill:none;stroke-width:1;stroke-linecap:butt;stroke-linejoin:miter;stroke:rgb(26.666667%,26.666667%,26.666667%);stroke-opacity:1;stroke-miterlimit:10;\" d=\"M 341.023438 305.386719 L 391.609375 334.660156 \"/>\n",
              "<path style=\"fill:none;stroke-width:1;stroke-linecap:butt;stroke-linejoin:miter;stroke:rgb(26.666667%,26.666667%,26.666667%);stroke-opacity:1;stroke-miterlimit:10;\" d=\"M 411.03125 417.921875 L 391.609375 334.660156 \"/>\n",
              "<path style=\"fill:none;stroke-width:1;stroke-linecap:butt;stroke-linejoin:miter;stroke:rgb(26.666667%,26.666667%,26.666667%);stroke-opacity:1;stroke-miterlimit:10;\" d=\"M 478.097656 285.816406 L 391.609375 334.660156 \"/>\n",
              "<path style=\"fill:none;stroke-width:1;stroke-linecap:butt;stroke-linejoin:miter;stroke:rgb(26.666667%,26.666667%,26.666667%);stroke-opacity:1;stroke-miterlimit:10;\" d=\"M 261.101562 326.609375 L 391.609375 334.660156 \"/>\n",
              "<path style=\"fill:none;stroke-width:1;stroke-linecap:butt;stroke-linejoin:miter;stroke:rgb(26.666667%,26.666667%,26.666667%);stroke-opacity:1;stroke-miterlimit:10;\" d=\"M 358.5625 420.550781 L 391.609375 334.660156 \"/>\n",
              "<path style=\"fill:none;stroke-width:1;stroke-linecap:butt;stroke-linejoin:miter;stroke:rgb(26.666667%,26.666667%,26.666667%);stroke-opacity:1;stroke-miterlimit:10;\" d=\"M 349.589844 246.664062 L 391.609375 334.660156 \"/>\n",
              "<path style=\"fill:none;stroke-width:1;stroke-linecap:butt;stroke-linejoin:miter;stroke:rgb(26.666667%,26.666667%,26.666667%);stroke-opacity:1;stroke-miterlimit:10;\" d=\"M 278.019531 422.742188 L 183.492188 382.714844 \"/>\n",
              "<path style=\"fill:none;stroke-width:1;stroke-linecap:butt;stroke-linejoin:miter;stroke:rgb(26.666667%,26.666667%,26.666667%);stroke-opacity:1;stroke-miterlimit:10;\" d=\"M 201.433594 306.769531 L 183.492188 382.714844 \"/>\n",
              "<path style=\"fill:none;stroke-width:1;stroke-linecap:butt;stroke-linejoin:miter;stroke:rgb(26.666667%,26.666667%,26.666667%);stroke-opacity:1;stroke-miterlimit:10;\" d=\"M 382.507812 285.597656 L 224.457031 270.40625 \"/>\n",
              "<path style=\"fill:none;stroke-width:1;stroke-linecap:butt;stroke-linejoin:miter;stroke:rgb(26.666667%,26.666667%,26.666667%);stroke-opacity:1;stroke-miterlimit:10;\" d=\"M 261.101562 326.609375 L 224.457031 270.40625 \"/>\n",
              "<path style=\"fill:none;stroke-width:1;stroke-linecap:butt;stroke-linejoin:miter;stroke:rgb(26.666667%,26.666667%,26.666667%);stroke-opacity:1;stroke-miterlimit:10;\" d=\"M 100.683594 297.550781 L 224.457031 270.40625 \"/>\n",
              "<path style=\"fill:none;stroke-width:1;stroke-linecap:butt;stroke-linejoin:miter;stroke:rgb(26.666667%,26.666667%,26.666667%);stroke-opacity:1;stroke-miterlimit:10;\" d=\"M 290.234375 288.152344 L 322.070312 355.847656 \"/>\n",
              "<path style=\"fill:none;stroke-width:1;stroke-linecap:butt;stroke-linejoin:miter;stroke:rgb(26.666667%,26.666667%,26.666667%);stroke-opacity:1;stroke-miterlimit:10;\" d=\"M 382.507812 285.597656 L 322.070312 355.847656 \"/>\n",
              "<path style=\"fill:none;stroke-width:1;stroke-linecap:butt;stroke-linejoin:miter;stroke:rgb(26.666667%,26.666667%,26.666667%);stroke-opacity:1;stroke-miterlimit:10;\" d=\"M 325.570312 233.589844 L 322.070312 355.847656 \"/>\n",
              "<path style=\"fill:none;stroke-width:1;stroke-linecap:butt;stroke-linejoin:miter;stroke:rgb(26.666667%,26.666667%,26.666667%);stroke-opacity:1;stroke-miterlimit:10;\" d=\"M 437.429688 345.574219 L 322.070312 355.847656 \"/>\n",
              "<path style=\"fill:none;stroke-width:1;stroke-linecap:butt;stroke-linejoin:miter;stroke:rgb(26.666667%,26.666667%,26.666667%);stroke-opacity:1;stroke-miterlimit:10;\" d=\"M 183.492188 382.714844 L 322.070312 355.847656 \"/>\n",
              "<path style=\"fill:none;stroke-width:1;stroke-linecap:butt;stroke-linejoin:miter;stroke:rgb(26.666667%,26.666667%,26.666667%);stroke-opacity:1;stroke-miterlimit:10;\" d=\"M 201.433594 306.769531 L 260.527344 212.664062 \"/>\n",
              "<path style=\"fill:none;stroke-width:1;stroke-linecap:butt;stroke-linejoin:miter;stroke:rgb(26.666667%,26.666667%,26.666667%);stroke-opacity:1;stroke-miterlimit:10;\" d=\"M 226.070312 252.351562 L 260.527344 212.664062 \"/>\n",
              "<path style=\"fill:none;stroke-width:1;stroke-linecap:butt;stroke-linejoin:miter;stroke:rgb(26.666667%,26.666667%,26.666667%);stroke-opacity:1;stroke-miterlimit:10;\" d=\"M 322.960938 156.984375 L 260.527344 212.664062 \"/>\n",
              "<path style=\"fill:none;stroke-width:1;stroke-linecap:butt;stroke-linejoin:miter;stroke:rgb(26.666667%,26.666667%,26.666667%);stroke-opacity:1;stroke-miterlimit:10;\" d=\"M 304.296875 226.269531 L 260.527344 212.664062 \"/>\n",
              "<path style=\"fill:none;stroke-width:1;stroke-linecap:butt;stroke-linejoin:miter;stroke:rgb(26.666667%,26.666667%,26.666667%);stroke-opacity:1;stroke-miterlimit:10;\" d=\"M 322.691406 277.613281 L 260.527344 212.664062 \"/>\n",
              "<path style=\"fill:none;stroke-width:1;stroke-linecap:butt;stroke-linejoin:miter;stroke:rgb(26.666667%,26.666667%,26.666667%);stroke-opacity:1;stroke-miterlimit:10;\" d=\"M 197.800781 442.445312 L 283.839844 502.835938 \"/>\n",
              "<path style=\"fill:none;stroke-width:1;stroke-linecap:butt;stroke-linejoin:miter;stroke:rgb(26.666667%,26.666667%,26.666667%);stroke-opacity:1;stroke-miterlimit:10;\" d=\"M 358.5625 420.550781 L 283.839844 502.835938 \"/>\n",
              "<path style=\"fill:none;stroke-width:1;stroke-linecap:butt;stroke-linejoin:miter;stroke:rgb(26.666667%,26.666667%,26.666667%);stroke-opacity:1;stroke-miterlimit:10;\" d=\"M 325.570312 233.589844 L 309.046875 266.054688 \"/>\n",
              "<path style=\"fill:none;stroke-width:1;stroke-linecap:butt;stroke-linejoin:miter;stroke:rgb(26.666667%,26.666667%,26.666667%);stroke-opacity:1;stroke-miterlimit:10;\" d=\"M 260.984375 348.019531 L 309.046875 266.054688 \"/>\n",
              "<path style=\"fill:none;stroke-width:1;stroke-linecap:butt;stroke-linejoin:miter;stroke:rgb(26.666667%,26.666667%,26.666667%);stroke-opacity:1;stroke-miterlimit:10;\" d=\"M 388.234375 297.015625 L 309.046875 266.054688 \"/>\n",
              "<path style=\"fill:none;stroke-width:1;stroke-linecap:butt;stroke-linejoin:miter;stroke:rgb(26.666667%,26.666667%,26.666667%);stroke-opacity:1;stroke-miterlimit:10;\" d=\"M 437.429688 345.574219 L 309.046875 266.054688 \"/>\n",
              "<path style=\"fill:none;stroke-width:1;stroke-linecap:butt;stroke-linejoin:miter;stroke:rgb(26.666667%,26.666667%,26.666667%);stroke-opacity:1;stroke-miterlimit:10;\" d=\"M 243.125 198.710938 L 309.046875 266.054688 \"/>\n",
              "<path style=\"fill:none;stroke-width:1;stroke-linecap:butt;stroke-linejoin:miter;stroke:rgb(26.666667%,26.666667%,26.666667%);stroke-opacity:1;stroke-miterlimit:10;\" d=\"M 184.472656 237.582031 L 309.046875 266.054688 \"/>\n",
              "<path style=\"fill:none;stroke-width:1;stroke-linecap:butt;stroke-linejoin:miter;stroke:rgb(26.666667%,26.666667%,26.666667%);stroke-opacity:1;stroke-miterlimit:10;\" d=\"M 216.679688 350.496094 L 295.78125 333.929688 \"/>\n",
              "<path style=\"fill:none;stroke-width:1;stroke-linecap:butt;stroke-linejoin:miter;stroke:rgb(26.666667%,26.666667%,26.666667%);stroke-opacity:1;stroke-miterlimit:10;\" d=\"M 304.296875 226.269531 L 295.78125 333.929688 \"/>\n",
              "<path style=\"fill:none;stroke-width:1;stroke-linecap:butt;stroke-linejoin:miter;stroke:rgb(26.666667%,26.666667%,26.666667%);stroke-opacity:1;stroke-miterlimit:10;\" d=\"M 299.078125 243.113281 L 295.78125 333.929688 \"/>\n",
              "<path style=\"fill:none;stroke-width:1;stroke-linecap:butt;stroke-linejoin:miter;stroke:rgb(26.666667%,26.666667%,26.666667%);stroke-opacity:1;stroke-miterlimit:10;\" d=\"M 447.738281 285.804688 L 468.796875 241.699219 \"/>\n",
              "<path style=\"fill:none;stroke-width:1;stroke-linecap:butt;stroke-linejoin:miter;stroke:rgb(26.666667%,26.666667%,26.666667%);stroke-opacity:1;stroke-miterlimit:10;\" d=\"M 407.1875 310.671875 L 468.796875 241.699219 \"/>\n",
              "<path style=\"fill:none;stroke-width:1;stroke-linecap:butt;stroke-linejoin:miter;stroke:rgb(26.666667%,26.666667%,26.666667%);stroke-opacity:1;stroke-miterlimit:10;\" d=\"M 349.589844 246.664062 L 468.796875 241.699219 \"/>\n",
              "<path style=\"fill:none;stroke-width:1;stroke-linecap:butt;stroke-linejoin:miter;stroke:rgb(26.666667%,26.666667%,26.666667%);stroke-opacity:1;stroke-miterlimit:10;\" d=\"M 397.433594 461.617188 L 312.421875 426.835938 \"/>\n",
              "<path style=\"fill:none;stroke-width:1;stroke-linecap:butt;stroke-linejoin:miter;stroke:rgb(26.666667%,26.666667%,26.666667%);stroke-opacity:1;stroke-miterlimit:10;\" d=\"M 414.507812 364.109375 L 312.421875 426.835938 \"/>\n",
              "<path style=\"fill:none;stroke-width:1;stroke-linecap:butt;stroke-linejoin:miter;stroke:rgb(26.666667%,26.666667%,26.666667%);stroke-opacity:1;stroke-miterlimit:10;\" d=\"M 206.101562 381.375 L 312.421875 426.835938 \"/>\n",
              "<path style=\"fill:none;stroke-width:1;stroke-linecap:butt;stroke-linejoin:miter;stroke:rgb(26.666667%,26.666667%,26.666667%);stroke-opacity:1;stroke-miterlimit:10;\" d=\"M 256.148438 459.101562 L 312.421875 426.835938 \"/>\n",
              "<path style=\"fill:none;stroke-width:1;stroke-linecap:butt;stroke-linejoin:miter;stroke:rgb(26.666667%,26.666667%,26.666667%);stroke-opacity:1;stroke-miterlimit:10;\" d=\"M 295.78125 333.929688 L 312.421875 426.835938 \"/>\n",
              "<path style=\"fill:none;stroke-width:1;stroke-linecap:butt;stroke-linejoin:miter;stroke:rgb(26.666667%,26.666667%,26.666667%);stroke-opacity:1;stroke-miterlimit:10;\" d=\"M 197.800781 442.445312 L 162.96875 354.082031 \"/>\n",
              "<path style=\"fill:none;stroke-width:1;stroke-linecap:butt;stroke-linejoin:miter;stroke:rgb(26.666667%,26.666667%,26.666667%);stroke-opacity:1;stroke-miterlimit:10;\" d=\"M 216.679688 350.496094 L 162.96875 354.082031 \"/>\n",
              "<path style=\"fill:none;stroke-width:1;stroke-linecap:butt;stroke-linejoin:miter;stroke:rgb(26.666667%,26.666667%,26.666667%);stroke-opacity:1;stroke-miterlimit:10;\" d=\"M 247.871094 312.160156 L 162.96875 354.082031 \"/>\n",
              "<path style=\"fill:none;stroke-width:1;stroke-linecap:butt;stroke-linejoin:miter;stroke:rgb(26.666667%,26.666667%,26.666667%);stroke-opacity:1;stroke-miterlimit:10;\" d=\"M 295.445312 320.074219 L 162.96875 354.082031 \"/>\n",
              "<path style=\"fill:none;stroke-width:1;stroke-linecap:butt;stroke-linejoin:miter;stroke:rgb(26.666667%,26.666667%,26.666667%);stroke-opacity:1;stroke-miterlimit:10;\" d=\"M 100.683594 297.550781 L 162.96875 354.082031 \"/>\n",
              "<path style=\"fill:none;stroke-width:1;stroke-linecap:butt;stroke-linejoin:miter;stroke:rgb(26.666667%,26.666667%,26.666667%);stroke-opacity:1;stroke-miterlimit:10;\" d=\"M 281.445312 196.808594 L 231.308594 330.980469 \"/>\n",
              "<path style=\"fill:none;stroke-width:1;stroke-linecap:butt;stroke-linejoin:miter;stroke:rgb(26.666667%,26.666667%,26.666667%);stroke-opacity:1;stroke-miterlimit:10;\" d=\"M 344.039062 340.386719 L 231.308594 330.980469 \"/>\n",
              "<path style=\"fill:none;stroke-width:1;stroke-linecap:butt;stroke-linejoin:miter;stroke:rgb(26.666667%,26.666667%,26.666667%);stroke-opacity:1;stroke-miterlimit:10;\" d=\"M 197.800781 442.445312 L 231.308594 330.980469 \"/>\n",
              "<path style=\"fill:none;stroke-width:1;stroke-linecap:butt;stroke-linejoin:miter;stroke:rgb(26.666667%,26.666667%,26.666667%);stroke-opacity:1;stroke-miterlimit:10;\" d=\"M 295.445312 320.074219 L 231.308594 330.980469 \"/>\n",
              "<path style=\"fill:none;stroke-width:1;stroke-linecap:butt;stroke-linejoin:miter;stroke:rgb(26.666667%,26.666667%,26.666667%);stroke-opacity:1;stroke-miterlimit:10;\" d=\"M 234.355469 284.449219 L 231.308594 330.980469 \"/>\n",
              "<path style=\"fill:none;stroke-width:1;stroke-linecap:butt;stroke-linejoin:miter;stroke:rgb(26.666667%,26.666667%,26.666667%);stroke-opacity:1;stroke-miterlimit:10;\" d=\"M 135.128906 420.410156 L 231.308594 330.980469 \"/>\n",
              "<path style=\"fill:none;stroke-width:1;stroke-linecap:butt;stroke-linejoin:miter;stroke:rgb(26.666667%,26.666667%,26.666667%);stroke-opacity:1;stroke-miterlimit:10;\" d=\"M 322.691406 277.613281 L 231.308594 330.980469 \"/>\n",
              "<path style=\"fill:none;stroke-width:1;stroke-linecap:butt;stroke-linejoin:miter;stroke:rgb(26.666667%,26.666667%,26.666667%);stroke-opacity:1;stroke-miterlimit:10;\" d=\"M 447.738281 285.804688 L 378.78125 361.125 \"/>\n",
              "<path style=\"fill:none;stroke-width:1;stroke-linecap:butt;stroke-linejoin:miter;stroke:rgb(26.666667%,26.666667%,26.666667%);stroke-opacity:1;stroke-miterlimit:10;\" d=\"M 247.871094 312.160156 L 378.78125 361.125 \"/>\n",
              "<path style=\"fill:none;stroke-width:1;stroke-linecap:butt;stroke-linejoin:miter;stroke:rgb(26.666667%,26.666667%,26.666667%);stroke-opacity:1;stroke-miterlimit:10;\" d=\"M 388.234375 297.015625 L 378.78125 361.125 \"/>\n",
              "<path style=\"fill:none;stroke-width:1;stroke-linecap:butt;stroke-linejoin:miter;stroke:rgb(26.666667%,26.666667%,26.666667%);stroke-opacity:1;stroke-miterlimit:10;\" d=\"M 295.78125 333.929688 L 378.78125 361.125 \"/>\n",
              "<path style=\"fill:none;stroke-width:1;stroke-linecap:butt;stroke-linejoin:miter;stroke:rgb(26.666667%,26.666667%,26.666667%);stroke-opacity:1;stroke-miterlimit:10;\" d=\"M 192.152344 331.601562 L 97.011719 340.589844 \"/>\n",
              "<path style=\"fill:none;stroke-width:1;stroke-linecap:butt;stroke-linejoin:miter;stroke:rgb(26.666667%,26.666667%,26.666667%);stroke-opacity:1;stroke-miterlimit:10;\" d=\"M 20 377.425781 L 97.011719 340.589844 \"/>\n",
              "<path style=\"fill:none;stroke-width:1;stroke-linecap:butt;stroke-linejoin:miter;stroke:rgb(26.666667%,26.666667%,26.666667%);stroke-opacity:1;stroke-miterlimit:10;\" d=\"M 146.417969 249.144531 L 97.011719 340.589844 \"/>\n",
              "<path style=\"fill:none;stroke-width:1;stroke-linecap:butt;stroke-linejoin:miter;stroke:rgb(26.666667%,26.666667%,26.666667%);stroke-opacity:1;stroke-miterlimit:10;\" d=\"M 183.492188 382.714844 L 97.011719 340.589844 \"/>\n",
              "<path style=\"fill:none;stroke-width:1;stroke-linecap:butt;stroke-linejoin:miter;stroke:rgb(26.666667%,26.666667%,26.666667%);stroke-opacity:1;stroke-miterlimit:10;\" d=\"M 162.96875 354.082031 L 97.011719 340.589844 \"/>\n",
              "<path style=\"fill:none;stroke-width:1;stroke-linecap:butt;stroke-linejoin:miter;stroke:rgb(26.666667%,26.666667%,26.666667%);stroke-opacity:1;stroke-miterlimit:10;\" d=\"M 304.296875 226.269531 L 382.152344 140.292969 \"/>\n",
              "<path style=\"fill:none;stroke-width:1;stroke-linecap:butt;stroke-linejoin:miter;stroke:rgb(26.666667%,26.666667%,26.666667%);stroke-opacity:1;stroke-miterlimit:10;\" d=\"M 418.035156 197.070312 L 382.152344 140.292969 \"/>\n",
              "<path style=\"fill:none;stroke-width:1;stroke-linecap:butt;stroke-linejoin:miter;stroke:rgb(26.666667%,26.666667%,26.666667%);stroke-opacity:1;stroke-miterlimit:10;\" d=\"M 424.101562 404.703125 L 350.203125 406.375 \"/>\n",
              "<path style=\"fill:none;stroke-width:1;stroke-linecap:butt;stroke-linejoin:miter;stroke:rgb(26.666667%,26.666667%,26.666667%);stroke-opacity:1;stroke-miterlimit:10;\" d=\"M 261.101562 326.609375 L 350.203125 406.375 \"/>\n",
              "<path style=\"fill:none;stroke-width:1;stroke-linecap:butt;stroke-linejoin:miter;stroke:rgb(26.666667%,26.666667%,26.666667%);stroke-opacity:1;stroke-miterlimit:10;\" d=\"M 493.382812 393.273438 L 350.203125 406.375 \"/>\n",
              "<path style=\"fill:none;stroke-width:1;stroke-linecap:butt;stroke-linejoin:miter;stroke:rgb(26.666667%,26.666667%,26.666667%);stroke-opacity:1;stroke-miterlimit:10;\" d=\"M 234.1875 388.445312 L 350.203125 406.375 \"/>\n",
              "<path style=\"fill:none;stroke-width:1;stroke-linecap:butt;stroke-linejoin:miter;stroke:rgb(26.666667%,26.666667%,26.666667%);stroke-opacity:1;stroke-miterlimit:10;\" d=\"M 278.550781 394.945312 L 350.203125 406.375 \"/>\n",
              "<path style=\"fill:none;stroke-width:1;stroke-linecap:butt;stroke-linejoin:miter;stroke:rgb(26.666667%,26.666667%,26.666667%);stroke-opacity:1;stroke-miterlimit:10;\" d=\"M 322.070312 355.847656 L 350.203125 406.375 \"/>\n",
              "<path style=\"fill:none;stroke-width:1;stroke-linecap:butt;stroke-linejoin:miter;stroke:rgb(26.666667%,26.666667%,26.666667%);stroke-opacity:1;stroke-miterlimit:10;\" d=\"M 397.433594 461.617188 L 509.621094 416.878906 \"/>\n",
              "<path style=\"fill:none;stroke-width:1;stroke-linecap:butt;stroke-linejoin:miter;stroke:rgb(26.666667%,26.666667%,26.666667%);stroke-opacity:1;stroke-miterlimit:10;\" d=\"M 424.101562 404.703125 L 509.621094 416.878906 \"/>\n",
              "<path style=\"fill:none;stroke-width:1;stroke-linecap:butt;stroke-linejoin:miter;stroke:rgb(26.666667%,26.666667%,26.666667%);stroke-opacity:1;stroke-miterlimit:10;\" d=\"M 437.429688 345.574219 L 509.621094 416.878906 \"/>\n",
              "<path style=\"fill:none;stroke-width:1;stroke-linecap:butt;stroke-linejoin:miter;stroke:rgb(26.666667%,26.666667%,26.666667%);stroke-opacity:1;stroke-miterlimit:10;\" d=\"M 566.027344 354.511719 L 509.621094 416.878906 \"/>\n",
              "<path style=\"fill:none;stroke-width:1;stroke-linecap:butt;stroke-linejoin:miter;stroke:rgb(26.666667%,26.666667%,26.666667%);stroke-opacity:1;stroke-miterlimit:10;\" d=\"M 322.070312 355.847656 L 335.40625 473.183594 \"/>\n",
              "<path style=\"fill:none;stroke-width:1;stroke-linecap:butt;stroke-linejoin:miter;stroke:rgb(26.666667%,26.666667%,26.666667%);stroke-opacity:1;stroke-miterlimit:10;\" d=\"M 283.839844 502.835938 L 335.40625 473.183594 \"/>\n",
              "<path style=\"fill:none;stroke-width:1;stroke-linecap:butt;stroke-linejoin:miter;stroke:rgb(26.666667%,26.666667%,26.666667%);stroke-opacity:1;stroke-miterlimit:10;\" d=\"M 350.203125 406.375 L 335.40625 473.183594 \"/>\n",
              "<path style=\"fill:none;stroke-width:1;stroke-linecap:butt;stroke-linejoin:miter;stroke:rgb(26.666667%,26.666667%,26.666667%);stroke-opacity:1;stroke-miterlimit:10;\" d=\"M 278.019531 422.742188 L 229.328125 526.199219 \"/>\n",
              "<path style=\"fill:none;stroke-width:1;stroke-linecap:butt;stroke-linejoin:miter;stroke:rgb(26.666667%,26.666667%,26.666667%);stroke-opacity:1;stroke-miterlimit:10;\" d=\"M 344.039062 340.386719 L 328.824219 398.339844 \"/>\n",
              "<path style=\"fill:none;stroke-width:1;stroke-linecap:butt;stroke-linejoin:miter;stroke:rgb(26.666667%,26.666667%,26.666667%);stroke-opacity:1;stroke-miterlimit:10;\" d=\"M 411.03125 417.921875 L 328.824219 398.339844 \"/>\n",
              "<path style=\"fill:none;stroke-width:1;stroke-linecap:butt;stroke-linejoin:miter;stroke:rgb(26.666667%,26.666667%,26.666667%);stroke-opacity:1;stroke-miterlimit:10;\" d=\"M 295.445312 320.074219 L 328.824219 398.339844 \"/>\n",
              "<path style=\"fill:none;stroke-width:1;stroke-linecap:butt;stroke-linejoin:miter;stroke:rgb(26.666667%,26.666667%,26.666667%);stroke-opacity:1;stroke-miterlimit:10;\" d=\"M 358.5625 420.550781 L 328.824219 398.339844 \"/>\n",
              "<path style=\"fill:none;stroke-width:1;stroke-linecap:butt;stroke-linejoin:miter;stroke:rgb(26.666667%,26.666667%,26.666667%);stroke-opacity:1;stroke-miterlimit:10;\" d=\"M 285.050781 376.859375 L 328.824219 398.339844 \"/>\n",
              "<path style=\"fill:none;stroke-width:1;stroke-linecap:butt;stroke-linejoin:miter;stroke:rgb(26.666667%,26.666667%,26.666667%);stroke-opacity:1;stroke-miterlimit:10;\" d=\"M 295.78125 333.929688 L 328.824219 398.339844 \"/>\n",
              "<path style=\"fill:none;stroke-width:1;stroke-linecap:butt;stroke-linejoin:miter;stroke:rgb(26.666667%,26.666667%,26.666667%);stroke-opacity:1;stroke-miterlimit:10;\" d=\"M 397.433594 461.617188 L 338.445312 438.214844 \"/>\n",
              "<path style=\"fill:none;stroke-width:1;stroke-linecap:butt;stroke-linejoin:miter;stroke:rgb(26.666667%,26.666667%,26.666667%);stroke-opacity:1;stroke-miterlimit:10;\" d=\"M 260.984375 348.019531 L 338.445312 438.214844 \"/>\n",
              "<path style=\"fill:none;stroke-width:1;stroke-linecap:butt;stroke-linejoin:miter;stroke:rgb(26.666667%,26.666667%,26.666667%);stroke-opacity:1;stroke-miterlimit:10;\" d=\"M 312.421875 426.835938 L 338.445312 438.214844 \"/>\n",
              "<path style=\"fill:none;stroke-width:1;stroke-linecap:butt;stroke-linejoin:miter;stroke:rgb(26.666667%,26.666667%,26.666667%);stroke-opacity:1;stroke-miterlimit:10;\" d=\"M 378.78125 361.125 L 338.445312 438.214844 \"/>\n",
              "<path style=\"fill:none;stroke-width:1;stroke-linecap:butt;stroke-linejoin:miter;stroke:rgb(26.666667%,26.666667%,26.666667%);stroke-opacity:1;stroke-miterlimit:10;\" d=\"M 328.824219 398.339844 L 338.445312 438.214844 \"/>\n",
              "<path style=\"fill:none;stroke-width:1;stroke-linecap:butt;stroke-linejoin:miter;stroke:rgb(26.666667%,26.666667%,26.666667%);stroke-opacity:1;stroke-miterlimit:10;\" d=\"M 325.570312 233.589844 L 197.742188 170.636719 \"/>\n",
              "<path style=\"fill:none;stroke-width:1;stroke-linecap:butt;stroke-linejoin:miter;stroke:rgb(26.666667%,26.666667%,26.666667%);stroke-opacity:1;stroke-miterlimit:10;\" d=\"M 146.417969 249.144531 L 197.742188 170.636719 \"/>\n",
              "<path style=\"fill:none;stroke-width:1;stroke-linecap:butt;stroke-linejoin:miter;stroke:rgb(26.666667%,26.666667%,26.666667%);stroke-opacity:1;stroke-miterlimit:10;\" d=\"M 278.019531 422.742188 L 340.269531 374.5 \"/>\n",
              "<path style=\"fill:none;stroke-width:1;stroke-linecap:butt;stroke-linejoin:miter;stroke:rgb(26.666667%,26.666667%,26.666667%);stroke-opacity:1;stroke-miterlimit:10;\" d=\"M 262.746094 277.230469 L 340.269531 374.5 \"/>\n",
              "<path style=\"fill:none;stroke-width:1;stroke-linecap:butt;stroke-linejoin:miter;stroke:rgb(26.666667%,26.666667%,26.666667%);stroke-opacity:1;stroke-miterlimit:10;\" d=\"M 344.039062 340.386719 L 340.269531 374.5 \"/>\n",
              "<path style=\"fill:none;stroke-width:1;stroke-linecap:butt;stroke-linejoin:miter;stroke:rgb(26.666667%,26.666667%,26.666667%);stroke-opacity:1;stroke-miterlimit:10;\" d=\"M 388.234375 297.015625 L 340.269531 374.5 \"/>\n",
              "<path style=\"fill:none;stroke-width:1;stroke-linecap:butt;stroke-linejoin:miter;stroke:rgb(26.666667%,26.666667%,26.666667%);stroke-opacity:1;stroke-miterlimit:10;\" d=\"M 350.203125 406.375 L 340.269531 374.5 \"/>\n",
              "<path style=\"fill:none;stroke-width:1;stroke-linecap:butt;stroke-linejoin:miter;stroke:rgb(26.666667%,26.666667%,26.666667%);stroke-opacity:1;stroke-miterlimit:10;\" d=\"M 363.511719 382.621094 L 415.164062 434.53125 \"/>\n",
              "<path style=\"fill:none;stroke-width:1;stroke-linecap:butt;stroke-linejoin:miter;stroke:rgb(26.666667%,26.666667%,26.666667%);stroke-opacity:1;stroke-miterlimit:10;\" d=\"M 378.78125 361.125 L 415.164062 434.53125 \"/>\n",
              "<path style=\"fill:none;stroke-width:1;stroke-linecap:butt;stroke-linejoin:miter;stroke:rgb(26.666667%,26.666667%,26.666667%);stroke-opacity:1;stroke-miterlimit:10;\" d=\"M 340.269531 374.5 L 415.164062 434.53125 \"/>\n",
              "<path style=\"fill:none;stroke-width:1;stroke-linecap:butt;stroke-linejoin:miter;stroke:rgb(26.666667%,26.666667%,26.666667%);stroke-opacity:1;stroke-miterlimit:10;\" d=\"M 493.382812 393.273438 L 580 429.019531 \"/>\n",
              "<path style=\"fill:none;stroke-width:1;stroke-linecap:butt;stroke-linejoin:miter;stroke:rgb(26.666667%,26.666667%,26.666667%);stroke-opacity:1;stroke-miterlimit:10;\" d=\"M 509.621094 416.878906 L 580 429.019531 \"/>\n",
              "<path style=\"fill:none;stroke-width:1;stroke-linecap:butt;stroke-linejoin:miter;stroke:rgb(26.666667%,26.666667%,26.666667%);stroke-opacity:1;stroke-miterlimit:10;\" d=\"M 382.507812 285.597656 L 453.472656 363.28125 \"/>\n",
              "<path style=\"fill:none;stroke-width:1;stroke-linecap:butt;stroke-linejoin:miter;stroke:rgb(26.666667%,26.666667%,26.666667%);stroke-opacity:1;stroke-miterlimit:10;\" d=\"M 363.511719 382.621094 L 453.472656 363.28125 \"/>\n",
              "<path style=\"fill:none;stroke-width:1;stroke-linecap:butt;stroke-linejoin:miter;stroke:rgb(26.666667%,26.666667%,26.666667%);stroke-opacity:1;stroke-miterlimit:10;\" d=\"M 424.101562 404.703125 L 453.472656 363.28125 \"/>\n",
              "<path style=\"fill:none;stroke-width:1;stroke-linecap:butt;stroke-linejoin:miter;stroke:rgb(26.666667%,26.666667%,26.666667%);stroke-opacity:1;stroke-miterlimit:10;\" d=\"M 411.03125 417.921875 L 453.472656 363.28125 \"/>\n",
              "<path style=\"fill:none;stroke-width:1;stroke-linecap:butt;stroke-linejoin:miter;stroke:rgb(26.666667%,26.666667%,26.666667%);stroke-opacity:1;stroke-miterlimit:10;\" d=\"M 388.234375 297.015625 L 453.472656 363.28125 \"/>\n",
              "<path style=\"fill:none;stroke-width:1;stroke-linecap:butt;stroke-linejoin:miter;stroke:rgb(26.666667%,26.666667%,26.666667%);stroke-opacity:1;stroke-miterlimit:10;\" d=\"M 493.382812 393.273438 L 453.472656 363.28125 \"/>\n",
              "<path style=\"fill:none;stroke-width:1;stroke-linecap:butt;stroke-linejoin:miter;stroke:rgb(26.666667%,26.666667%,26.666667%);stroke-opacity:1;stroke-miterlimit:10;\" d=\"M 206.101562 381.375 L 313.171875 339.179688 \"/>\n",
              "<path style=\"fill:none;stroke-width:1;stroke-linecap:butt;stroke-linejoin:miter;stroke:rgb(26.666667%,26.666667%,26.666667%);stroke-opacity:1;stroke-miterlimit:10;\" d=\"M 407.1875 310.671875 L 313.171875 339.179688 \"/>\n",
              "<path style=\"fill:none;stroke-width:1;stroke-linecap:butt;stroke-linejoin:miter;stroke:rgb(26.666667%,26.666667%,26.666667%);stroke-opacity:1;stroke-miterlimit:10;\" d=\"M 348.996094 354.625 L 313.171875 339.179688 \"/>\n",
              "<path style=\"fill:none;stroke-width:1;stroke-linecap:butt;stroke-linejoin:miter;stroke:rgb(26.666667%,26.666667%,26.666667%);stroke-opacity:1;stroke-miterlimit:10;\" d=\"M 322.691406 277.613281 L 313.171875 339.179688 \"/>\n",
              "<path style=\"fill-rule:nonzero;fill:rgb(100%,0%,0%);fill-opacity:1;stroke-width:1;stroke-linecap:butt;stroke-linejoin:miter;stroke:rgb(0%,0%,0%);stroke-opacity:1;stroke-miterlimit:10;\" d=\"M 293.234375 288.152344 C 293.234375 292.152344 287.234375 292.152344 287.234375 288.152344 C 287.234375 284.152344 293.234375 284.152344 293.234375 288.152344 \"/>\n",
              "<path style=\"fill-rule:nonzero;fill:rgb(100%,0%,0%);fill-opacity:1;stroke-width:1;stroke-linecap:butt;stroke-linejoin:miter;stroke:rgb(0%,0%,0%);stroke-opacity:1;stroke-miterlimit:10;\" d=\"M 434.285156 485.039062 C 434.285156 489.039062 428.285156 489.039062 428.285156 485.039062 C 428.285156 481.039062 434.285156 481.039062 434.285156 485.039062 \"/>\n",
              "<path style=\"fill-rule:nonzero;fill:rgb(100%,0%,0%);fill-opacity:1;stroke-width:1;stroke-linecap:butt;stroke-linejoin:miter;stroke:rgb(0%,0%,0%);stroke-opacity:1;stroke-miterlimit:10;\" d=\"M 111.0625 373.238281 C 111.0625 377.238281 105.0625 377.238281 105.0625 373.238281 C 105.0625 369.238281 111.0625 369.238281 111.0625 373.238281 \"/>\n",
              "<path style=\"fill-rule:nonzero;fill:rgb(100%,0%,0%);fill-opacity:1;stroke-width:1;stroke-linecap:butt;stroke-linejoin:miter;stroke:rgb(0%,0%,0%);stroke-opacity:1;stroke-miterlimit:10;\" d=\"M 385.507812 285.597656 C 385.507812 289.597656 379.507812 289.597656 379.507812 285.597656 C 379.507812 281.597656 385.507812 281.597656 385.507812 285.597656 \"/>\n",
              "<path style=\"fill-rule:nonzero;fill:rgb(100%,0%,0%);fill-opacity:1;stroke-width:1;stroke-linecap:butt;stroke-linejoin:miter;stroke:rgb(0%,0%,0%);stroke-opacity:1;stroke-miterlimit:10;\" d=\"M 284.445312 196.808594 C 284.445312 200.808594 278.445312 200.808594 278.445312 196.808594 C 278.445312 192.808594 284.445312 192.808594 284.445312 196.808594 \"/>\n",
              "<path style=\"fill-rule:nonzero;fill:rgb(100%,0%,0%);fill-opacity:1;stroke-width:1;stroke-linecap:butt;stroke-linejoin:miter;stroke:rgb(0%,0%,0%);stroke-opacity:1;stroke-miterlimit:10;\" d=\"M 281.019531 422.742188 C 281.019531 426.742188 275.019531 426.742188 275.019531 422.742188 C 275.019531 418.742188 281.019531 418.742188 281.019531 422.742188 \"/>\n",
              "<path style=\"fill-rule:nonzero;fill:rgb(100%,0%,0%);fill-opacity:1;stroke-width:1;stroke-linecap:butt;stroke-linejoin:miter;stroke:rgb(0%,0%,0%);stroke-opacity:1;stroke-miterlimit:10;\" d=\"M 464.917969 303.140625 C 464.917969 307.140625 458.917969 307.140625 458.917969 303.140625 C 458.917969 299.140625 464.917969 299.140625 464.917969 303.140625 \"/>\n",
              "<path style=\"fill-rule:nonzero;fill:rgb(100%,0%,0%);fill-opacity:1;stroke-width:1;stroke-linecap:butt;stroke-linejoin:miter;stroke:rgb(0%,0%,0%);stroke-opacity:1;stroke-miterlimit:10;\" d=\"M 400.433594 461.617188 C 400.433594 465.617188 394.433594 465.617188 394.433594 461.617188 C 394.433594 457.617188 400.433594 457.617188 400.433594 461.617188 \"/>\n",
              "<path style=\"fill-rule:nonzero;fill:rgb(100%,0%,0%);fill-opacity:1;stroke-width:1;stroke-linecap:butt;stroke-linejoin:miter;stroke:rgb(0%,0%,0%);stroke-opacity:1;stroke-miterlimit:10;\" d=\"M 265.746094 277.230469 C 265.746094 281.230469 259.746094 281.230469 259.746094 277.230469 C 259.746094 273.230469 265.746094 273.230469 265.746094 277.230469 \"/>\n",
              "<path style=\"fill-rule:nonzero;fill:rgb(100%,0%,0%);fill-opacity:1;stroke-width:1;stroke-linecap:butt;stroke-linejoin:miter;stroke:rgb(0%,0%,0%);stroke-opacity:1;stroke-miterlimit:10;\" d=\"M 195.152344 331.601562 C 195.152344 335.601562 189.152344 335.601562 189.152344 331.601562 C 189.152344 327.601562 195.152344 327.601562 195.152344 331.601562 \"/>\n",
              "<path style=\"fill-rule:nonzero;fill:rgb(100%,0%,0%);fill-opacity:1;stroke-width:1;stroke-linecap:butt;stroke-linejoin:miter;stroke:rgb(0%,0%,0%);stroke-opacity:1;stroke-miterlimit:10;\" d=\"M 204.433594 306.769531 C 204.433594 310.769531 198.433594 310.769531 198.433594 306.769531 C 198.433594 302.769531 204.433594 302.769531 204.433594 306.769531 \"/>\n",
              "<path style=\"fill-rule:nonzero;fill:rgb(100%,0%,0%);fill-opacity:1;stroke-width:1;stroke-linecap:butt;stroke-linejoin:miter;stroke:rgb(0%,0%,0%);stroke-opacity:1;stroke-miterlimit:10;\" d=\"M 417.507812 364.109375 C 417.507812 368.109375 411.507812 368.109375 411.507812 364.109375 C 411.507812 360.109375 417.507812 360.109375 417.507812 364.109375 \"/>\n",
              "<path style=\"fill-rule:nonzero;fill:rgb(100%,0%,0%);fill-opacity:1;stroke-width:1;stroke-linecap:butt;stroke-linejoin:miter;stroke:rgb(0%,0%,0%);stroke-opacity:1;stroke-miterlimit:10;\" d=\"M 347.039062 340.386719 C 347.039062 344.386719 341.039062 344.386719 341.039062 340.386719 C 341.039062 336.386719 347.039062 336.386719 347.039062 340.386719 \"/>\n",
              "<path style=\"fill-rule:nonzero;fill:rgb(100%,0%,0%);fill-opacity:1;stroke-width:1;stroke-linecap:butt;stroke-linejoin:miter;stroke:rgb(0%,0%,0%);stroke-opacity:1;stroke-miterlimit:10;\" d=\"M 499.316406 496.359375 C 499.316406 500.359375 493.316406 500.359375 493.316406 496.359375 C 493.316406 492.359375 499.316406 492.359375 499.316406 496.359375 \"/>\n",
              "<path style=\"fill-rule:nonzero;fill:rgb(100%,0%,0%);fill-opacity:1;stroke-width:1;stroke-linecap:butt;stroke-linejoin:miter;stroke:rgb(0%,0%,0%);stroke-opacity:1;stroke-miterlimit:10;\" d=\"M 200.800781 442.445312 C 200.800781 446.445312 194.800781 446.445312 194.800781 442.445312 C 194.800781 438.445312 200.800781 438.445312 200.800781 442.445312 \"/>\n",
              "<path style=\"fill-rule:nonzero;fill:rgb(100%,0%,0%);fill-opacity:1;stroke-width:1;stroke-linecap:butt;stroke-linejoin:miter;stroke:rgb(0%,0%,0%);stroke-opacity:1;stroke-miterlimit:10;\" d=\"M 450.738281 285.804688 C 450.738281 289.804688 444.738281 289.804688 444.738281 285.804688 C 444.738281 281.804688 450.738281 281.804688 450.738281 285.804688 \"/>\n",
              "<path style=\"fill-rule:nonzero;fill:rgb(100%,0%,0%);fill-opacity:1;stroke-width:1;stroke-linecap:butt;stroke-linejoin:miter;stroke:rgb(0%,0%,0%);stroke-opacity:1;stroke-miterlimit:10;\" d=\"M 210.515625 216.972656 C 210.515625 220.972656 204.515625 220.972656 204.515625 216.972656 C 204.515625 212.972656 210.515625 212.972656 210.515625 216.972656 \"/>\n",
              "<path style=\"fill-rule:nonzero;fill:rgb(100%,0%,0%);fill-opacity:1;stroke-width:1;stroke-linecap:butt;stroke-linejoin:miter;stroke:rgb(0%,0%,0%);stroke-opacity:1;stroke-miterlimit:10;\" d=\"M 444.421875 228.855469 C 444.421875 232.855469 438.421875 232.855469 438.421875 228.855469 C 438.421875 224.855469 444.421875 224.855469 444.421875 228.855469 \"/>\n",
              "<path style=\"fill-rule:nonzero;fill:rgb(100%,0%,0%);fill-opacity:1;stroke-width:1;stroke-linecap:butt;stroke-linejoin:miter;stroke:rgb(0%,0%,0%);stroke-opacity:1;stroke-miterlimit:10;\" d=\"M 219.679688 350.496094 C 219.679688 354.496094 213.679688 354.496094 213.679688 350.496094 C 213.679688 346.496094 219.679688 346.496094 219.679688 350.496094 \"/>\n",
              "<path style=\"fill-rule:nonzero;fill:rgb(100%,0%,0%);fill-opacity:1;stroke-width:1;stroke-linecap:butt;stroke-linejoin:miter;stroke:rgb(0%,0%,0%);stroke-opacity:1;stroke-miterlimit:10;\" d=\"M 328.570312 233.589844 C 328.570312 237.589844 322.570312 237.589844 322.570312 233.589844 C 322.570312 229.589844 328.570312 229.589844 328.570312 233.589844 \"/>\n",
              "<path style=\"fill-rule:nonzero;fill:rgb(100%,0%,0%);fill-opacity:1;stroke-width:1;stroke-linecap:butt;stroke-linejoin:miter;stroke:rgb(0%,0%,0%);stroke-opacity:1;stroke-miterlimit:10;\" d=\"M 393.628906 253.785156 C 393.628906 257.785156 387.628906 257.785156 387.628906 253.785156 C 387.628906 249.785156 393.628906 249.785156 393.628906 253.785156 \"/>\n",
              "<path style=\"fill-rule:nonzero;fill:rgb(100%,0%,0%);fill-opacity:1;stroke-width:1;stroke-linecap:butt;stroke-linejoin:miter;stroke:rgb(0%,0%,0%);stroke-opacity:1;stroke-miterlimit:10;\" d=\"M 229.070312 252.351562 C 229.070312 256.351562 223.070312 256.351562 223.070312 252.351562 C 223.070312 248.351562 229.070312 248.351562 229.070312 252.351562 \"/>\n",
              "<path style=\"fill-rule:nonzero;fill:rgb(100%,0%,0%);fill-opacity:1;stroke-width:1;stroke-linecap:butt;stroke-linejoin:miter;stroke:rgb(0%,0%,0%);stroke-opacity:1;stroke-miterlimit:10;\" d=\"M 366.511719 382.621094 C 366.511719 386.621094 360.511719 386.621094 360.511719 382.621094 C 360.511719 378.621094 366.511719 378.621094 366.511719 382.621094 \"/>\n",
              "<path style=\"fill-rule:nonzero;fill:rgb(100%,0%,0%);fill-opacity:1;stroke-width:1;stroke-linecap:butt;stroke-linejoin:miter;stroke:rgb(0%,0%,0%);stroke-opacity:1;stroke-miterlimit:10;\" d=\"M 263.984375 348.019531 C 263.984375 352.019531 257.984375 352.019531 257.984375 348.019531 C 257.984375 344.019531 263.984375 344.019531 263.984375 348.019531 \"/>\n",
              "<path style=\"fill-rule:nonzero;fill:rgb(100%,0%,0%);fill-opacity:1;stroke-width:1;stroke-linecap:butt;stroke-linejoin:miter;stroke:rgb(0%,0%,0%);stroke-opacity:1;stroke-miterlimit:10;\" d=\"M 252.429688 169.566406 C 252.429688 173.566406 246.429688 173.566406 246.429688 169.566406 C 246.429688 165.566406 252.429688 165.566406 252.429688 169.566406 \"/>\n",
              "<path style=\"fill-rule:nonzero;fill:rgb(100%,0%,0%);fill-opacity:1;stroke-width:1;stroke-linecap:butt;stroke-linejoin:miter;stroke:rgb(0%,0%,0%);stroke-opacity:1;stroke-miterlimit:10;\" d=\"M 344.023438 305.386719 C 344.023438 309.386719 338.023438 309.386719 338.023438 305.386719 C 338.023438 301.386719 344.023438 301.386719 344.023438 305.386719 \"/>\n",
              "<path style=\"fill-rule:nonzero;fill:rgb(100%,0%,0%);fill-opacity:1;stroke-width:1;stroke-linecap:butt;stroke-linejoin:miter;stroke:rgb(0%,0%,0%);stroke-opacity:1;stroke-miterlimit:10;\" d=\"M 427.101562 404.703125 C 427.101562 408.703125 421.101562 408.703125 421.101562 404.703125 C 421.101562 400.703125 427.101562 400.703125 427.101562 404.703125 \"/>\n",
              "<path style=\"fill-rule:nonzero;fill:rgb(100%,0%,0%);fill-opacity:1;stroke-width:1;stroke-linecap:butt;stroke-linejoin:miter;stroke:rgb(0%,0%,0%);stroke-opacity:1;stroke-miterlimit:10;\" d=\"M 414.03125 417.921875 C 414.03125 421.921875 408.03125 421.921875 408.03125 417.921875 C 408.03125 413.921875 414.03125 413.921875 414.03125 417.921875 \"/>\n",
              "<path style=\"fill-rule:nonzero;fill:rgb(100%,0%,0%);fill-opacity:1;stroke-width:1;stroke-linecap:butt;stroke-linejoin:miter;stroke:rgb(0%,0%,0%);stroke-opacity:1;stroke-miterlimit:10;\" d=\"M 209.101562 381.375 C 209.101562 385.375 203.101562 385.375 203.101562 381.375 C 203.101562 377.375 209.101562 377.375 209.101562 381.375 \"/>\n",
              "<path style=\"fill-rule:nonzero;fill:rgb(100%,0%,0%);fill-opacity:1;stroke-width:1;stroke-linecap:butt;stroke-linejoin:miter;stroke:rgb(0%,0%,0%);stroke-opacity:1;stroke-miterlimit:10;\" d=\"M 323.722656 300.683594 C 323.722656 304.683594 317.722656 304.683594 317.722656 300.683594 C 317.722656 296.683594 323.722656 296.683594 323.722656 300.683594 \"/>\n",
              "<path style=\"fill-rule:nonzero;fill:rgb(100%,0%,0%);fill-opacity:1;stroke-width:1;stroke-linecap:butt;stroke-linejoin:miter;stroke:rgb(0%,0%,0%);stroke-opacity:1;stroke-miterlimit:10;\" d=\"M 177.542969 222.550781 C 177.542969 226.550781 171.542969 226.550781 171.542969 222.550781 C 171.542969 218.550781 177.542969 218.550781 177.542969 222.550781 \"/>\n",
              "<path style=\"fill-rule:nonzero;fill:rgb(100%,0%,0%);fill-opacity:1;stroke-width:1;stroke-linecap:butt;stroke-linejoin:miter;stroke:rgb(0%,0%,0%);stroke-opacity:1;stroke-miterlimit:10;\" d=\"M 317.796875 202.53125 C 317.796875 206.53125 311.796875 206.53125 311.796875 202.53125 C 311.796875 198.53125 317.796875 198.53125 317.796875 202.53125 \"/>\n",
              "<path style=\"fill-rule:nonzero;fill:rgb(100%,0%,0%);fill-opacity:1;stroke-width:1;stroke-linecap:butt;stroke-linejoin:miter;stroke:rgb(0%,0%,0%);stroke-opacity:1;stroke-miterlimit:10;\" d=\"M 250.871094 312.160156 C 250.871094 316.160156 244.871094 316.160156 244.871094 312.160156 C 244.871094 308.160156 250.871094 308.160156 250.871094 312.160156 \"/>\n",
              "<path style=\"fill-rule:nonzero;fill:rgb(100%,0%,0%);fill-opacity:1;stroke-width:1;stroke-linecap:butt;stroke-linejoin:miter;stroke:rgb(0%,0%,0%);stroke-opacity:1;stroke-miterlimit:10;\" d=\"M 391.234375 297.015625 C 391.234375 301.015625 385.234375 301.015625 385.234375 297.015625 C 385.234375 293.015625 391.234375 293.015625 391.234375 297.015625 \"/>\n",
              "<path style=\"fill-rule:nonzero;fill:rgb(100%,0%,0%);fill-opacity:1;stroke-width:1;stroke-linecap:butt;stroke-linejoin:miter;stroke:rgb(0%,0%,0%);stroke-opacity:1;stroke-miterlimit:10;\" d=\"M 371.160156 340.453125 C 371.160156 344.453125 365.160156 344.453125 365.160156 340.453125 C 365.160156 336.453125 371.160156 336.453125 371.160156 340.453125 \"/>\n",
              "<path style=\"fill-rule:nonzero;fill:rgb(100%,0%,0%);fill-opacity:1;stroke-width:1;stroke-linecap:butt;stroke-linejoin:miter;stroke:rgb(0%,0%,0%);stroke-opacity:1;stroke-miterlimit:10;\" d=\"M 536.398438 170.667969 C 536.398438 174.667969 530.398438 174.667969 530.398438 170.667969 C 530.398438 166.667969 536.398438 166.667969 536.398438 170.667969 \"/>\n",
              "<path style=\"fill-rule:nonzero;fill:rgb(100%,0%,0%);fill-opacity:1;stroke-width:1;stroke-linecap:butt;stroke-linejoin:miter;stroke:rgb(0%,0%,0%);stroke-opacity:1;stroke-miterlimit:10;\" d=\"M 298.445312 320.074219 C 298.445312 324.074219 292.445312 324.074219 292.445312 320.074219 C 292.445312 316.074219 298.445312 316.074219 298.445312 320.074219 \"/>\n",
              "<path style=\"fill-rule:nonzero;fill:rgb(100%,0%,0%);fill-opacity:1;stroke-width:1;stroke-linecap:butt;stroke-linejoin:miter;stroke:rgb(0%,0%,0%);stroke-opacity:1;stroke-miterlimit:10;\" d=\"M 481.097656 285.816406 C 481.097656 289.816406 475.097656 289.816406 475.097656 285.816406 C 475.097656 281.816406 481.097656 281.816406 481.097656 285.816406 \"/>\n",
              "<path style=\"fill-rule:nonzero;fill:rgb(100%,0%,0%);fill-opacity:1;stroke-width:1;stroke-linecap:butt;stroke-linejoin:miter;stroke:rgb(0%,0%,0%);stroke-opacity:1;stroke-miterlimit:10;\" d=\"M 440.429688 345.574219 C 440.429688 349.574219 434.429688 349.574219 434.429688 345.574219 C 434.429688 341.574219 440.429688 341.574219 440.429688 345.574219 \"/>\n",
              "<path style=\"fill-rule:nonzero;fill:rgb(100%,0%,0%);fill-opacity:1;stroke-width:1;stroke-linecap:butt;stroke-linejoin:miter;stroke:rgb(0%,0%,0%);stroke-opacity:1;stroke-miterlimit:10;\" d=\"M 569.027344 354.511719 C 569.027344 358.511719 563.027344 358.511719 563.027344 354.511719 C 563.027344 350.511719 569.027344 350.511719 569.027344 354.511719 \"/>\n",
              "<path style=\"fill-rule:nonzero;fill:rgb(100%,0%,0%);fill-opacity:1;stroke-width:1;stroke-linecap:butt;stroke-linejoin:miter;stroke:rgb(0%,0%,0%);stroke-opacity:1;stroke-miterlimit:10;\" d=\"M 370.453125 187.40625 C 370.453125 191.40625 364.453125 191.40625 364.453125 187.40625 C 364.453125 183.40625 370.453125 183.40625 370.453125 187.40625 \"/>\n",
              "<path style=\"fill-rule:nonzero;fill:rgb(100%,0%,0%);fill-opacity:1;stroke-width:1;stroke-linecap:butt;stroke-linejoin:miter;stroke:rgb(0%,0%,0%);stroke-opacity:1;stroke-miterlimit:10;\" d=\"M 325.960938 156.984375 C 325.960938 160.984375 319.960938 160.984375 319.960938 156.984375 C 319.960938 152.984375 325.960938 152.984375 325.960938 156.984375 \"/>\n",
              "<path style=\"fill-rule:nonzero;fill:rgb(100%,0%,0%);fill-opacity:1;stroke-width:1;stroke-linecap:butt;stroke-linejoin:miter;stroke:rgb(0%,0%,0%);stroke-opacity:1;stroke-miterlimit:10;\" d=\"M 237.355469 284.449219 C 237.355469 288.449219 231.355469 288.449219 231.355469 284.449219 C 231.355469 280.449219 237.355469 280.449219 237.355469 284.449219 \"/>\n",
              "<path style=\"fill-rule:nonzero;fill:rgb(100%,0%,0%);fill-opacity:1;stroke-width:1;stroke-linecap:butt;stroke-linejoin:miter;stroke:rgb(0%,0%,0%);stroke-opacity:1;stroke-miterlimit:10;\" d=\"M 264.101562 326.609375 C 264.101562 330.609375 258.101562 330.609375 258.101562 326.609375 C 258.101562 322.609375 264.101562 322.609375 264.101562 326.609375 \"/>\n",
              "<path style=\"fill-rule:nonzero;fill:rgb(100%,0%,0%);fill-opacity:1;stroke-width:1;stroke-linecap:butt;stroke-linejoin:miter;stroke:rgb(0%,0%,0%);stroke-opacity:1;stroke-miterlimit:10;\" d=\"M 189.539062 281.355469 C 189.539062 285.355469 183.539062 285.355469 183.539062 281.355469 C 183.539062 277.355469 189.539062 277.355469 189.539062 281.355469 \"/>\n",
              "<path style=\"fill-rule:nonzero;fill:rgb(100%,0%,0%);fill-opacity:1;stroke-width:1;stroke-linecap:butt;stroke-linejoin:miter;stroke:rgb(0%,0%,0%);stroke-opacity:1;stroke-miterlimit:10;\" d=\"M 496.382812 393.273438 C 496.382812 397.273438 490.382812 397.273438 490.382812 393.273438 C 490.382812 389.273438 496.382812 389.273438 496.382812 393.273438 \"/>\n",
              "<path style=\"fill-rule:nonzero;fill:rgb(100%,0%,0%);fill-opacity:1;stroke-width:1;stroke-linecap:butt;stroke-linejoin:miter;stroke:rgb(0%,0%,0%);stroke-opacity:1;stroke-miterlimit:10;\" d=\"M 307.296875 226.269531 C 307.296875 230.269531 301.296875 230.269531 301.296875 226.269531 C 301.296875 222.269531 307.296875 222.269531 307.296875 226.269531 \"/>\n",
              "<path style=\"fill-rule:nonzero;fill:rgb(100%,0%,0%);fill-opacity:1;stroke-width:1;stroke-linecap:butt;stroke-linejoin:miter;stroke:rgb(0%,0%,0%);stroke-opacity:1;stroke-miterlimit:10;\" d=\"M 421.035156 197.070312 C 421.035156 201.070312 415.035156 201.070312 415.035156 197.070312 C 415.035156 193.070312 421.035156 193.070312 421.035156 197.070312 \"/>\n",
              "<path style=\"fill-rule:nonzero;fill:rgb(100%,0%,0%);fill-opacity:1;stroke-width:1;stroke-linecap:butt;stroke-linejoin:miter;stroke:rgb(0%,0%,0%);stroke-opacity:1;stroke-miterlimit:10;\" d=\"M 237.1875 388.445312 C 237.1875 392.445312 231.1875 392.445312 231.1875 388.445312 C 231.1875 384.445312 237.1875 384.445312 237.1875 388.445312 \"/>\n",
              "<path style=\"fill-rule:nonzero;fill:rgb(100%,0%,0%);fill-opacity:1;stroke-width:1;stroke-linecap:butt;stroke-linejoin:miter;stroke:rgb(0%,0%,0%);stroke-opacity:1;stroke-miterlimit:10;\" d=\"M 259.148438 459.101562 C 259.148438 463.101562 253.148438 463.101562 253.148438 459.101562 C 253.148438 455.101562 259.148438 455.101562 259.148438 459.101562 \"/>\n",
              "<path style=\"fill-rule:nonzero;fill:rgb(100%,0%,0%);fill-opacity:1;stroke-width:1;stroke-linecap:butt;stroke-linejoin:miter;stroke:rgb(0%,0%,0%);stroke-opacity:1;stroke-miterlimit:10;\" d=\"M 410.1875 310.671875 C 410.1875 314.671875 404.1875 314.671875 404.1875 310.671875 C 404.1875 306.671875 410.1875 306.671875 410.1875 310.671875 \"/>\n",
              "<path style=\"fill-rule:nonzero;fill:rgb(100%,0%,0%);fill-opacity:1;stroke-width:1;stroke-linecap:butt;stroke-linejoin:miter;stroke:rgb(0%,0%,0%);stroke-opacity:1;stroke-miterlimit:10;\" d=\"M 23 377.425781 C 23 381.425781 17 381.425781 17 377.425781 C 17 373.425781 23 373.425781 23 377.425781 \"/>\n",
              "<path style=\"fill-rule:nonzero;fill:rgb(100%,0%,0%);fill-opacity:1;stroke-width:1;stroke-linecap:butt;stroke-linejoin:miter;stroke:rgb(0%,0%,0%);stroke-opacity:1;stroke-miterlimit:10;\" d=\"M 351.996094 354.625 C 351.996094 358.625 345.996094 358.625 345.996094 354.625 C 345.996094 350.625 351.996094 350.625 351.996094 354.625 \"/>\n",
              "<path style=\"fill-rule:nonzero;fill:rgb(100%,0%,0%);fill-opacity:1;stroke-width:1;stroke-linecap:butt;stroke-linejoin:miter;stroke:rgb(0%,0%,0%);stroke-opacity:1;stroke-miterlimit:10;\" d=\"M 246.125 198.710938 C 246.125 202.710938 240.125 202.710938 240.125 198.710938 C 240.125 194.710938 246.125 194.710938 246.125 198.710938 \"/>\n",
              "<path style=\"fill-rule:nonzero;fill:rgb(100%,0%,0%);fill-opacity:1;stroke-width:1;stroke-linecap:butt;stroke-linejoin:miter;stroke:rgb(0%,0%,0%);stroke-opacity:1;stroke-miterlimit:10;\" d=\"M 361.5625 420.550781 C 361.5625 424.550781 355.5625 424.550781 355.5625 420.550781 C 355.5625 416.550781 361.5625 416.550781 361.5625 420.550781 \"/>\n",
              "<path style=\"fill-rule:nonzero;fill:rgb(100%,0%,0%);fill-opacity:1;stroke-width:1;stroke-linecap:butt;stroke-linejoin:miter;stroke:rgb(0%,0%,0%);stroke-opacity:1;stroke-miterlimit:10;\" d=\"M 103.683594 297.550781 C 103.683594 301.550781 97.683594 301.550781 97.683594 297.550781 C 97.683594 293.550781 103.683594 293.550781 103.683594 297.550781 \"/>\n",
              "<path style=\"fill-rule:nonzero;fill:rgb(100%,0%,0%);fill-opacity:1;stroke-width:1;stroke-linecap:butt;stroke-linejoin:miter;stroke:rgb(0%,0%,0%);stroke-opacity:1;stroke-miterlimit:10;\" d=\"M 106.476562 313.183594 C 106.476562 317.183594 100.476562 317.183594 100.476562 313.183594 C 100.476562 309.183594 106.476562 309.183594 106.476562 313.183594 \"/>\n",
              "<path style=\"fill-rule:nonzero;fill:rgb(100%,0%,0%);fill-opacity:1;stroke-width:1;stroke-linecap:butt;stroke-linejoin:miter;stroke:rgb(0%,0%,0%);stroke-opacity:1;stroke-miterlimit:10;\" d=\"M 187.472656 237.582031 C 187.472656 241.582031 181.472656 241.582031 181.472656 237.582031 C 181.472656 233.582031 187.472656 233.582031 187.472656 237.582031 \"/>\n",
              "<path style=\"fill-rule:nonzero;fill:rgb(100%,0%,0%);fill-opacity:1;stroke-width:1;stroke-linecap:butt;stroke-linejoin:miter;stroke:rgb(0%,0%,0%);stroke-opacity:1;stroke-miterlimit:10;\" d=\"M 244.707031 225.039062 C 244.707031 229.039062 238.707031 229.039062 238.707031 225.039062 C 238.707031 221.039062 244.707031 221.039062 244.707031 225.039062 \"/>\n",
              "<path style=\"fill-rule:nonzero;fill:rgb(100%,0%,0%);fill-opacity:1;stroke-width:1;stroke-linecap:butt;stroke-linejoin:miter;stroke:rgb(0%,0%,0%);stroke-opacity:1;stroke-miterlimit:10;\" d=\"M 435.691406 315.375 C 435.691406 319.375 429.691406 319.375 429.691406 315.375 C 429.691406 311.375 435.691406 311.375 435.691406 315.375 \"/>\n",
              "<path style=\"fill-rule:nonzero;fill:rgb(100%,0%,0%);fill-opacity:1;stroke-width:1;stroke-linecap:butt;stroke-linejoin:miter;stroke:rgb(0%,0%,0%);stroke-opacity:1;stroke-miterlimit:10;\" d=\"M 212.03125 426.246094 C 212.03125 430.246094 206.03125 430.246094 206.03125 426.246094 C 206.03125 422.246094 212.03125 422.246094 212.03125 426.246094 \"/>\n",
              "<path style=\"fill-rule:nonzero;fill:rgb(100%,0%,0%);fill-opacity:1;stroke-width:1;stroke-linecap:butt;stroke-linejoin:miter;stroke:rgb(0%,0%,0%);stroke-opacity:1;stroke-miterlimit:10;\" d=\"M 302.078125 243.113281 C 302.078125 247.113281 296.078125 247.113281 296.078125 243.113281 C 296.078125 239.113281 302.078125 239.113281 302.078125 243.113281 \"/>\n",
              "<path style=\"fill-rule:nonzero;fill:rgb(100%,0%,0%);fill-opacity:1;stroke-width:1;stroke-linecap:butt;stroke-linejoin:miter;stroke:rgb(0%,0%,0%);stroke-opacity:1;stroke-miterlimit:10;\" d=\"M 296.898438 471.386719 C 296.898438 475.386719 290.898438 475.386719 290.898438 471.386719 C 290.898438 467.386719 296.898438 467.386719 296.898438 471.386719 \"/>\n",
              "<path style=\"fill-rule:nonzero;fill:rgb(100%,0%,0%);fill-opacity:1;stroke-width:1;stroke-linecap:butt;stroke-linejoin:miter;stroke:rgb(0%,0%,0%);stroke-opacity:1;stroke-miterlimit:10;\" d=\"M 149.417969 249.144531 C 149.417969 253.144531 143.417969 253.144531 143.417969 249.144531 C 143.417969 245.144531 149.417969 245.144531 149.417969 249.144531 \"/>\n",
              "<path style=\"fill-rule:nonzero;fill:rgb(100%,0%,0%);fill-opacity:1;stroke-width:1;stroke-linecap:butt;stroke-linejoin:miter;stroke:rgb(0%,0%,0%);stroke-opacity:1;stroke-miterlimit:10;\" d=\"M 56.085938 298.675781 C 56.085938 302.675781 50.085938 302.675781 50.085938 298.675781 C 50.085938 294.675781 56.085938 294.675781 56.085938 298.675781 \"/>\n",
              "<path style=\"fill-rule:nonzero;fill:rgb(100%,0%,0%);fill-opacity:1;stroke-width:1;stroke-linecap:butt;stroke-linejoin:miter;stroke:rgb(0%,0%,0%);stroke-opacity:1;stroke-miterlimit:10;\" d=\"M 49.5 580 C 49.5 584 43.5 584 43.5 580 C 43.5 576 49.5 576 49.5 580 \"/>\n",
              "<path style=\"fill-rule:nonzero;fill:rgb(100%,0%,0%);fill-opacity:1;stroke-width:1;stroke-linecap:butt;stroke-linejoin:miter;stroke:rgb(0%,0%,0%);stroke-opacity:1;stroke-miterlimit:10;\" d=\"M 281.550781 394.945312 C 281.550781 398.945312 275.550781 398.945312 275.550781 394.945312 C 275.550781 390.945312 281.550781 390.945312 281.550781 394.945312 \"/>\n",
              "<path style=\"fill-rule:nonzero;fill:rgb(100%,0%,0%);fill-opacity:1;stroke-width:1;stroke-linecap:butt;stroke-linejoin:miter;stroke:rgb(0%,0%,0%);stroke-opacity:1;stroke-miterlimit:10;\" d=\"M 288.050781 376.859375 C 288.050781 380.859375 282.050781 380.859375 282.050781 376.859375 C 282.050781 372.859375 288.050781 372.859375 288.050781 376.859375 \"/>\n",
              "<path style=\"fill-rule:nonzero;fill:rgb(100%,0%,0%);fill-opacity:1;stroke-width:1;stroke-linecap:butt;stroke-linejoin:miter;stroke:rgb(0%,0%,0%);stroke-opacity:1;stroke-miterlimit:10;\" d=\"M 352.589844 246.664062 C 352.589844 250.664062 346.589844 250.664062 346.589844 246.664062 C 346.589844 242.664062 352.589844 242.664062 352.589844 246.664062 \"/>\n",
              "<path style=\"fill-rule:nonzero;fill:rgb(100%,0%,0%);fill-opacity:1;stroke-width:1;stroke-linecap:butt;stroke-linejoin:miter;stroke:rgb(0%,0%,0%);stroke-opacity:1;stroke-miterlimit:10;\" d=\"M 138.128906 420.410156 C 138.128906 424.410156 132.128906 424.410156 132.128906 420.410156 C 132.128906 416.410156 138.128906 416.410156 138.128906 420.410156 \"/>\n",
              "<path style=\"fill-rule:nonzero;fill:rgb(100%,0%,0%);fill-opacity:1;stroke-width:1;stroke-linecap:butt;stroke-linejoin:miter;stroke:rgb(0%,0%,0%);stroke-opacity:1;stroke-miterlimit:10;\" d=\"M 325.691406 277.613281 C 325.691406 281.613281 319.691406 281.613281 319.691406 277.613281 C 319.691406 273.613281 325.691406 273.613281 325.691406 277.613281 \"/>\n",
              "<path style=\"fill-rule:nonzero;fill:rgb(100%,0%,0%);fill-opacity:1;stroke-width:1;stroke-linecap:butt;stroke-linejoin:miter;stroke:rgb(0%,0%,0%);stroke-opacity:1;stroke-miterlimit:10;\" d=\"M 67.246094 253.285156 C 67.246094 257.285156 61.246094 257.285156 61.246094 253.285156 C 61.246094 249.285156 67.246094 249.285156 67.246094 253.285156 \"/>\n",
              "<path style=\"fill-rule:nonzero;fill:rgb(100%,0%,0%);fill-opacity:1;stroke-width:1;stroke-linecap:butt;stroke-linejoin:miter;stroke:rgb(0%,0%,0%);stroke-opacity:1;stroke-miterlimit:10;\" d=\"M 394.609375 334.660156 C 394.609375 338.660156 388.609375 338.660156 388.609375 334.660156 C 388.609375 330.660156 394.609375 330.660156 394.609375 334.660156 \"/>\n",
              "<path style=\"fill-rule:nonzero;fill:rgb(100%,0%,0%);fill-opacity:1;stroke-width:1;stroke-linecap:butt;stroke-linejoin:miter;stroke:rgb(0%,0%,0%);stroke-opacity:1;stroke-miterlimit:10;\" d=\"M 186.492188 382.714844 C 186.492188 386.714844 180.492188 386.714844 180.492188 382.714844 C 180.492188 378.714844 186.492188 378.714844 186.492188 382.714844 \"/>\n",
              "<path style=\"fill-rule:nonzero;fill:rgb(100%,0%,0%);fill-opacity:1;stroke-width:1;stroke-linecap:butt;stroke-linejoin:miter;stroke:rgb(0%,0%,0%);stroke-opacity:1;stroke-miterlimit:10;\" d=\"M 227.457031 270.40625 C 227.457031 274.40625 221.457031 274.40625 221.457031 270.40625 C 221.457031 266.40625 227.457031 266.40625 227.457031 270.40625 \"/>\n",
              "<path style=\"fill-rule:nonzero;fill:rgb(100%,0%,0%);fill-opacity:1;stroke-width:1;stroke-linecap:butt;stroke-linejoin:miter;stroke:rgb(0%,0%,0%);stroke-opacity:1;stroke-miterlimit:10;\" d=\"M 325.070312 355.847656 C 325.070312 359.847656 319.070312 359.847656 319.070312 355.847656 C 319.070312 351.847656 325.070312 351.847656 325.070312 355.847656 \"/>\n",
              "<path style=\"fill-rule:nonzero;fill:rgb(100%,0%,0%);fill-opacity:1;stroke-width:1;stroke-linecap:butt;stroke-linejoin:miter;stroke:rgb(0%,0%,0%);stroke-opacity:1;stroke-miterlimit:10;\" d=\"M 263.527344 212.664062 C 263.527344 216.664062 257.527344 216.664062 257.527344 212.664062 C 257.527344 208.664062 263.527344 208.664062 263.527344 212.664062 \"/>\n",
              "<path style=\"fill-rule:nonzero;fill:rgb(100%,0%,0%);fill-opacity:1;stroke-width:1;stroke-linecap:butt;stroke-linejoin:miter;stroke:rgb(0%,0%,0%);stroke-opacity:1;stroke-miterlimit:10;\" d=\"M 286.839844 502.835938 C 286.839844 506.835938 280.839844 506.835938 280.839844 502.835938 C 280.839844 498.835938 286.839844 498.835938 286.839844 502.835938 \"/>\n",
              "<path style=\"fill-rule:nonzero;fill:rgb(100%,0%,0%);fill-opacity:1;stroke-width:1;stroke-linecap:butt;stroke-linejoin:miter;stroke:rgb(0%,0%,0%);stroke-opacity:1;stroke-miterlimit:10;\" d=\"M 312.046875 266.054688 C 312.046875 270.054688 306.046875 270.054688 306.046875 266.054688 C 306.046875 262.054688 312.046875 262.054688 312.046875 266.054688 \"/>\n",
              "<path style=\"fill-rule:nonzero;fill:rgb(100%,0%,0%);fill-opacity:1;stroke-width:1;stroke-linecap:butt;stroke-linejoin:miter;stroke:rgb(0%,0%,0%);stroke-opacity:1;stroke-miterlimit:10;\" d=\"M 298.78125 333.929688 C 298.78125 337.929688 292.78125 337.929688 292.78125 333.929688 C 292.78125 329.929688 298.78125 329.929688 298.78125 333.929688 \"/>\n",
              "<path style=\"fill-rule:nonzero;fill:rgb(100%,0%,0%);fill-opacity:1;stroke-width:1;stroke-linecap:butt;stroke-linejoin:miter;stroke:rgb(0%,0%,0%);stroke-opacity:1;stroke-miterlimit:10;\" d=\"M 471.796875 241.699219 C 471.796875 245.699219 465.796875 245.699219 465.796875 241.699219 C 465.796875 237.699219 471.796875 237.699219 471.796875 241.699219 \"/>\n",
              "<path style=\"fill-rule:nonzero;fill:rgb(100%,0%,0%);fill-opacity:1;stroke-width:1;stroke-linecap:butt;stroke-linejoin:miter;stroke:rgb(0%,0%,0%);stroke-opacity:1;stroke-miterlimit:10;\" d=\"M 315.421875 426.835938 C 315.421875 430.835938 309.421875 430.835938 309.421875 426.835938 C 309.421875 422.835938 315.421875 422.835938 315.421875 426.835938 \"/>\n",
              "<path style=\"fill-rule:nonzero;fill:rgb(100%,0%,0%);fill-opacity:1;stroke-width:1;stroke-linecap:butt;stroke-linejoin:miter;stroke:rgb(0%,0%,0%);stroke-opacity:1;stroke-miterlimit:10;\" d=\"M 165.96875 354.082031 C 165.96875 358.082031 159.96875 358.082031 159.96875 354.082031 C 159.96875 350.082031 165.96875 350.082031 165.96875 354.082031 \"/>\n",
              "<path style=\"fill-rule:nonzero;fill:rgb(100%,0%,0%);fill-opacity:1;stroke-width:1;stroke-linecap:butt;stroke-linejoin:miter;stroke:rgb(0%,0%,0%);stroke-opacity:1;stroke-miterlimit:10;\" d=\"M 234.308594 330.980469 C 234.308594 334.980469 228.308594 334.980469 228.308594 330.980469 C 228.308594 326.980469 234.308594 326.980469 234.308594 330.980469 \"/>\n",
              "<path style=\"fill-rule:nonzero;fill:rgb(100%,0%,0%);fill-opacity:1;stroke-width:1;stroke-linecap:butt;stroke-linejoin:miter;stroke:rgb(0%,0%,0%);stroke-opacity:1;stroke-miterlimit:10;\" d=\"M 381.78125 361.125 C 381.78125 365.125 375.78125 365.125 375.78125 361.125 C 375.78125 357.125 381.78125 357.125 381.78125 361.125 \"/>\n",
              "<path style=\"fill-rule:nonzero;fill:rgb(100%,0%,0%);fill-opacity:1;stroke-width:1;stroke-linecap:butt;stroke-linejoin:miter;stroke:rgb(0%,0%,0%);stroke-opacity:1;stroke-miterlimit:10;\" d=\"M 100.011719 340.589844 C 100.011719 344.589844 94.011719 344.589844 94.011719 340.589844 C 94.011719 336.589844 100.011719 336.589844 100.011719 340.589844 \"/>\n",
              "<path style=\"fill-rule:nonzero;fill:rgb(100%,0%,0%);fill-opacity:1;stroke-width:1;stroke-linecap:butt;stroke-linejoin:miter;stroke:rgb(0%,0%,0%);stroke-opacity:1;stroke-miterlimit:10;\" d=\"M 385.152344 140.292969 C 385.152344 144.292969 379.152344 144.292969 379.152344 140.292969 C 379.152344 136.292969 385.152344 136.292969 385.152344 140.292969 \"/>\n",
              "<path style=\"fill-rule:nonzero;fill:rgb(100%,0%,0%);fill-opacity:1;stroke-width:1;stroke-linecap:butt;stroke-linejoin:miter;stroke:rgb(0%,0%,0%);stroke-opacity:1;stroke-miterlimit:10;\" d=\"M 353.203125 406.375 C 353.203125 410.375 347.203125 410.375 347.203125 406.375 C 347.203125 402.375 353.203125 402.375 353.203125 406.375 \"/>\n",
              "<path style=\"fill-rule:nonzero;fill:rgb(100%,0%,0%);fill-opacity:1;stroke-width:1;stroke-linecap:butt;stroke-linejoin:miter;stroke:rgb(0%,0%,0%);stroke-opacity:1;stroke-miterlimit:10;\" d=\"M 512.621094 416.878906 C 512.621094 420.878906 506.621094 420.878906 506.621094 416.878906 C 506.621094 412.878906 512.621094 412.878906 512.621094 416.878906 \"/>\n",
              "<path style=\"fill-rule:nonzero;fill:rgb(100%,0%,0%);fill-opacity:1;stroke-width:1;stroke-linecap:butt;stroke-linejoin:miter;stroke:rgb(0%,0%,0%);stroke-opacity:1;stroke-miterlimit:10;\" d=\"M 338.40625 473.183594 C 338.40625 477.183594 332.40625 477.183594 332.40625 473.183594 C 332.40625 469.183594 338.40625 469.183594 338.40625 473.183594 \"/>\n",
              "<path style=\"fill-rule:nonzero;fill:rgb(100%,0%,0%);fill-opacity:1;stroke-width:1;stroke-linecap:butt;stroke-linejoin:miter;stroke:rgb(0%,0%,0%);stroke-opacity:1;stroke-miterlimit:10;\" d=\"M 232.328125 526.199219 C 232.328125 530.199219 226.328125 530.199219 226.328125 526.199219 C 226.328125 522.199219 232.328125 522.199219 232.328125 526.199219 \"/>\n",
              "<path style=\"fill-rule:nonzero;fill:rgb(100%,0%,0%);fill-opacity:1;stroke-width:1;stroke-linecap:butt;stroke-linejoin:miter;stroke:rgb(0%,0%,0%);stroke-opacity:1;stroke-miterlimit:10;\" d=\"M 331.824219 398.339844 C 331.824219 402.339844 325.824219 402.339844 325.824219 398.339844 C 325.824219 394.339844 331.824219 394.339844 331.824219 398.339844 \"/>\n",
              "<path style=\"fill-rule:nonzero;fill:rgb(100%,0%,0%);fill-opacity:1;stroke-width:1;stroke-linecap:butt;stroke-linejoin:miter;stroke:rgb(0%,0%,0%);stroke-opacity:1;stroke-miterlimit:10;\" d=\"M 341.445312 438.214844 C 341.445312 442.214844 335.445312 442.214844 335.445312 438.214844 C 335.445312 434.214844 341.445312 434.214844 341.445312 438.214844 \"/>\n",
              "<path style=\"fill-rule:nonzero;fill:rgb(100%,0%,0%);fill-opacity:1;stroke-width:1;stroke-linecap:butt;stroke-linejoin:miter;stroke:rgb(0%,0%,0%);stroke-opacity:1;stroke-miterlimit:10;\" d=\"M 200.742188 170.636719 C 200.742188 174.636719 194.742188 174.636719 194.742188 170.636719 C 194.742188 166.636719 200.742188 166.636719 200.742188 170.636719 \"/>\n",
              "<path style=\"fill-rule:nonzero;fill:rgb(100%,0%,0%);fill-opacity:1;stroke-width:1;stroke-linecap:butt;stroke-linejoin:miter;stroke:rgb(0%,0%,0%);stroke-opacity:1;stroke-miterlimit:10;\" d=\"M 343.269531 374.5 C 343.269531 378.5 337.269531 378.5 337.269531 374.5 C 337.269531 370.5 343.269531 370.5 343.269531 374.5 \"/>\n",
              "<path style=\"fill-rule:nonzero;fill:rgb(100%,0%,0%);fill-opacity:1;stroke-width:1;stroke-linecap:butt;stroke-linejoin:miter;stroke:rgb(0%,0%,0%);stroke-opacity:1;stroke-miterlimit:10;\" d=\"M 418.164062 434.53125 C 418.164062 438.53125 412.164062 438.53125 412.164062 434.53125 C 412.164062 430.53125 418.164062 430.53125 418.164062 434.53125 \"/>\n",
              "<path style=\"fill-rule:nonzero;fill:rgb(100%,0%,0%);fill-opacity:1;stroke-width:1;stroke-linecap:butt;stroke-linejoin:miter;stroke:rgb(0%,0%,0%);stroke-opacity:1;stroke-miterlimit:10;\" d=\"M 583 429.019531 C 583 433.019531 577 433.019531 577 429.019531 C 577 425.019531 583 425.019531 583 429.019531 \"/>\n",
              "<path style=\"fill-rule:nonzero;fill:rgb(100%,0%,0%);fill-opacity:1;stroke-width:1;stroke-linecap:butt;stroke-linejoin:miter;stroke:rgb(0%,0%,0%);stroke-opacity:1;stroke-miterlimit:10;\" d=\"M 463.570312 20 C 463.570312 24 457.570312 24 457.570312 20 C 457.570312 16 463.570312 16 463.570312 20 \"/>\n",
              "<path style=\"fill-rule:nonzero;fill:rgb(100%,0%,0%);fill-opacity:1;stroke-width:1;stroke-linecap:butt;stroke-linejoin:miter;stroke:rgb(0%,0%,0%);stroke-opacity:1;stroke-miterlimit:10;\" d=\"M 456.472656 363.28125 C 456.472656 367.28125 450.472656 367.28125 450.472656 363.28125 C 450.472656 359.28125 456.472656 359.28125 456.472656 363.28125 \"/>\n",
              "<path style=\"fill-rule:nonzero;fill:rgb(100%,0%,0%);fill-opacity:1;stroke-width:1;stroke-linecap:butt;stroke-linejoin:miter;stroke:rgb(0%,0%,0%);stroke-opacity:1;stroke-miterlimit:10;\" d=\"M 316.171875 339.179688 C 316.171875 343.179688 310.171875 343.179688 310.171875 339.179688 C 310.171875 335.179688 316.171875 335.179688 316.171875 339.179688 \"/>\n",
              "</g>\n",
              "</svg>\n"
            ],
            "text/plain": [
              "<igraph.drawing.cairo.plot.CairoPlot at 0x7fecd7f21900>"
            ]
          },
          "execution_count": 2,
          "metadata": {
            "image/svg+xml": {
              "isolated": true
            }
          },
          "output_type": "execute_result"
        },
        {
          "data": {
            "text/plain": [
              "<Figure size 1000x600 with 0 Axes>"
            ]
          },
          "metadata": {},
          "output_type": "display_data"
        }
      ],
      "source": [
        "Ger: ig.Graph = ig.Graph.Erdos_Renyi(n=100, p=0.05, directed=False)\n",
        "plt.figure(figsize=(10,6))\n",
        "ig.plot(Ger, vertex_size=6)"
      ]
    },
    {
      "cell_type": "code",
      "execution_count": 3,
      "metadata": {},
      "outputs": [],
      "source": [
        "import numpy.typing as npt\n",
        "\n",
        "# Aux function to extract degree histogram; *could* also use ig.Graph.degree_distribution method,\n",
        "# but the return type is a little cumbersome to use for what we want to do here...\n",
        "def degree_histogram(G: ig.Graph) -> npt.NDArray[np.int_]:\n",
        "  hist = np.zeros(G.vcount(), dtype=np.int_)\n",
        "  for deg in G.degree():\n",
        "    hist[deg] += 1\n",
        "  return hist  # Note that this is not zero-trimmed at the end.."
      ]
    },
    {
      "cell_type": "markdown",
      "metadata": {
        "id": "I_GsuCGrjCeX"
      },
      "source": [
        "Plot degree histogram of `Ger`"
      ]
    },
    {
      "cell_type": "code",
      "execution_count": 4,
      "metadata": {
        "colab": {
          "base_uri": "https://localhost:8080/",
          "height": 405
        },
        "id": "fG7ISkH3dlmS",
        "outputId": "fcaa57eb-c835-4e53-c3b9-43c998e67304",
        "tags": [
          "test:skip"
        ]
      },
      "outputs": [
        {
          "data": {
            "text/plain": [
              "Text(0, 0.5, 'Count')"
            ]
          },
          "execution_count": 4,
          "metadata": {},
          "output_type": "execute_result"
        },
        {
          "data": {
            "image/png": "[encoded data removed]",
            "text/plain": [
              "<Figure size 1000x600 with 1 Axes>"
            ]
          },
          "metadata": {},
          "output_type": "display_data"
        }
      ],
      "source": [
        "# Plot degree histogram of Ger (variable assigned previously)\n",
        "plt.figure(figsize=(10, 6))\n",
        "# Simplest plot (one-liner):\n",
        "# plt.plot(degree_histogram(Ger))\n",
        "# ..but we'll make it look a little prettier (not required)\n",
        "plt.plot(np.trim_zeros(degree_histogram(Ger), 'b'))\n",
        "plt.xlabel(\"Degree\")\n",
        "plt.ylabel(\"Count\")"
      ]
    },
    {
      "cell_type": "markdown",
      "metadata": {
        "id": "tMjPuuB4j5ux"
      },
      "source": [
        "##### **Task 1**\n",
        "\n",
        "The goal here is to do a simple empirical estimation of the degree distribution for E-R graphs, along with confidence bands.  You can do this with a naive Monte-Carlo estimator, i.e.:\n",
        "\n",
        "* Generate $S$ different Erdős–Rényi random graphs, all with the same $(N, p)$ parameters.\n",
        "* For each of those graphs, calculate it's degree histogram (reusing your earlier function)\n",
        "* Summarize all $S$ histograms using mean and standard deviation.\n",
        "\n",
        "Note that you don't have to generate all $S$ random graphs at the beginning (since that would require you to store all of them in-memory, which could start becoming intractable for large sample-sizes $S$).  Instead, you can generate one random graph at a time, and then use it's histogram to update sum and sum-of-squares (which can be used to calculate the mean and standard error at the very end).\n"
      ]
    },
    {
      "cell_type": "code",
      "execution_count": null,
      "metadata": {
        "id": "yrOHvOJaEWfk"
      },
      "outputs": [],
      "source": [
        "def er_degree_est(S, N, p):\n",
        "  \"\"\"\n",
        "  Naive Monte-Carlo estimator of E-R graph degree distribution.\n",
        "  \n",
        "  Arguments:\n",
        "    S is the number of random graphs to generate\n",
        "    N, p are the parameters for the E-R model to generate graphs\n",
        "\n",
        "  Return value:\n",
        "    A pair of NumPy vectors, say `(m, e)`, each of length N, where\n",
        "    m[i] is the average (over the S graphs) count of vertices with degree i,\n",
        "    and e[i] is the corresponding standard deviation for degree i \n",
        "    (again over the same set of S randomly generated E-R graphs).\n",
        "  \"\"\"\n",
        "  # TODO - Fill in code below\n",
        "..."
      ]
    },
    {
      "cell_type": "markdown",
      "metadata": {
        "id": "se6R6aYm5cX7"
      },
      "source": [
        "##### **Task 2**\n",
        "\n",
        "Finally, use your `er_degree_est()` implementation to generate plots (with error bars or error bands, as you prefer) for graphs with the following $(N, p)$ parameter values:\n",
        "\n",
        "* $(100, 0.01)$\n",
        "* $(100, 0.02)$\n",
        "* $(100, 0.05)$\n",
        "* $(100, 0.10)$"
      ]
    },
    {
      "cell_type": "code",
      "execution_count": null,
      "metadata": {
        "colab": {
          "base_uri": "https://localhost:8080/",
          "height": 513
        },
        "id": "xzIe7-Ms59hq",
        "outputId": "19809aa4-12dc-463e-bda6-52877c85fbc4",
        "tags": [
          "test:skip"
        ]
      },
      "outputs": [],
      "source": [
        "# TODO - Fill in code (feel free to add extra cells, as you see fit)\n"
      ]
    },
    {
      "attachments": {},
      "cell_type": "markdown",
      "metadata": {
        "id": "BemER5qrMzhz"
      },
      "source": [
        "<hr/>\n",
        "\n",
        "##### **Task 2** [optional]\n",
        "\n",
        "Jupyter notebooks are also used to create quick \"data dashboards\", using a number of interactive plotting libraries, such as IPyWidgets or Bokeh.  For those that wish to explore this (self-directed), we suggest the following as a starter task:\n",
        "\n",
        "Create an interactive panel (using IPyWidgets), that allows users to change $N$, and $p$ using sliders.  Whenever sliders move, the plot of the degree distribution plot estimate should be auto-updated.\n",
        "\n",
        "> **Note**\n",
        "> This task is entirely optional.  As a corollary to that, your work here does not have to be complete.\n"
      ]
    },
    {
      "cell_type": "code",
      "execution_count": null,
      "metadata": {
        "colab": {
          "base_uri": "https://localhost:8080/",
          "height": 564,
          "referenced_widgets": [
            "71e442f9ac2f44279395b02219c1a36e",
            "7bdbc35222e748f89232b55a7d7eb1e4",
            "a6b74ac7b5a84040ac580cb090659113",
            "4cd1d63a64624bd396390a45b2aa629c",
            "420466f63284418a8b6327c1a414cb06",
            "1780f2b8237246c0830193af0db89e9f",
            "30da8018b84a4057a4aab0e14d507d55",
            "c5d1dc921d7c4296ad23ea548134a8dc",
            "3d83efab8fa74e51b9904445c9e899f7",
            "db29c8e4f8e84b8a8887740cb21851ff",
            "d0a67cc2033743a6bdbf315c672c0eaa",
            "1062a8535e8741d2888889891939507e",
            "516bf51e8d8b437897954d5fe43e3fcb",
            "b51fa0076a2546a2ab56e048c01aba64",
            "bdacdb73345d4d1a8b4a56d0b8ca21bc"
          ]
        },
        "id": "1uASYA2wMp7L",
        "outputId": "33335f40-20a8-4e9f-e5da-5cb1f5ace5b2",
        "tags": [
          "test:skip"
        ]
      },
      "outputs": [],
      "source": [
        "# TODO - Fill in code (feel free to add extra cells, as you see fit)\n"
      ]
    }
  ],
  "metadata": {
    "colab": {
      "provenance": []
    },
    "kernelspec": {
      "display_name": "venv",
      "language": "python",
      "name": "python3"
    },
    "language_info": {
      "codemirror_mode": {
        "name": "ipython",
        "version": 3
      },
      "file_extension": ".py",
      "mimetype": "text/x-python",
      "name": "python",
      "nbconvert_exporter": "python",
      "pygments_lexer": "ipython3",
      "version": "3.10.7"
    },
    "vscode": {
      "interpreter": {
        "hash": "f2a18e7aa35240a52af99ab71370101fdc3f0f419f0b3683d6828ff1fe801d36"
      }
    },
    "widgets": {
      "application/vnd.jupyter.widget-state+json": {
        "1062a8535e8741d2888889891939507e": {
          "model_module": "@jupyter-widgets/controls",
          "model_module_version": "1.5.0",
          "model_name": "SliderStyleModel",
          "state": {
            "_model_module": "@jupyter-widgets/controls",
            "_model_module_version": "1.5.0",
            "_model_name": "SliderStyleModel",
            "_view_count": null,
            "_view_module": "@jupyter-widgets/base",
            "_view_module_version": "1.2.0",
            "_view_name": "StyleView",
            "description_width": "",
            "handle_color": null
          }
        },
        "1780f2b8237246c0830193af0db89e9f": {
          "model_module": "@jupyter-widgets/controls",
          "model_module_version": "1.5.0",
          "model_name": "CheckboxModel",
          "state": {
            "_dom_classes": [],
            "_model_module": "@jupyter-widgets/controls",
            "_model_module_version": "1.5.0",
            "_model_name": "CheckboxModel",
            "_view_count": null,
            "_view_module": "@jupyter-widgets/controls",
            "_view_module_version": "1.5.0",
            "_view_name": "CheckboxView",
            "description": "Show freq. counts as percentage of nodes",
            "description_tooltip": null,
            "disabled": false,
            "indent": true,
            "layout": "IPY_MODEL_db29c8e4f8e84b8a8887740cb21851ff",
            "style": "IPY_MODEL_516bf51e8d8b437897954d5fe43e3fcb",
            "value": true
          }
        },
        "30da8018b84a4057a4aab0e14d507d55": {
          "model_module": "@jupyter-widgets/controls",
          "model_module_version": "1.5.0",
          "model_name": "CheckboxModel",
          "state": {
            "_dom_classes": [],
            "_model_module": "@jupyter-widgets/controls",
            "_model_module_version": "1.5.0",
            "_model_name": "CheckboxModel",
            "_view_count": null,
            "_view_module": "@jupyter-widgets/controls",
            "_view_module_version": "1.5.0",
            "_view_name": "CheckboxView",
            "description": "Show degrees as percentage of nodes",
            "description_tooltip": null,
            "disabled": false,
            "indent": true,
            "layout": "IPY_MODEL_db29c8e4f8e84b8a8887740cb21851ff",
            "style": "IPY_MODEL_b51fa0076a2546a2ab56e048c01aba64",
            "value": false
          }
        },
        "3d83efab8fa74e51b9904445c9e899f7": {
          "model_module": "@jupyter-widgets/controls",
          "model_module_version": "1.5.0",
          "model_name": "SliderStyleModel",
          "state": {
            "_model_module": "@jupyter-widgets/controls",
            "_model_module_version": "1.5.0",
            "_model_name": "SliderStyleModel",
            "_view_count": null,
            "_view_module": "@jupyter-widgets/base",
            "_view_module_version": "1.2.0",
            "_view_name": "StyleView",
            "description_width": "",
            "handle_color": null
          }
        },
        "420466f63284418a8b6327c1a414cb06": {
          "model_module": "@jupyter-widgets/controls",
          "model_module_version": "1.5.0",
          "model_name": "FloatSliderModel",
          "state": {
            "_dom_classes": [],
            "_model_module": "@jupyter-widgets/controls",
            "_model_module_version": "1.5.0",
            "_model_name": "FloatSliderModel",
            "_view_count": null,
            "_view_module": "@jupyter-widgets/controls",
            "_view_module_version": "1.5.0",
            "_view_name": "FloatSliderView",
            "continuous_update": false,
            "description": "p (edge probability)",
            "description_tooltip": null,
            "disabled": false,
            "layout": "IPY_MODEL_db29c8e4f8e84b8a8887740cb21851ff",
            "max": 1,
            "min": 0,
            "orientation": "horizontal",
            "readout": true,
            "readout_format": ".2f",
            "step": 0.05,
            "style": "IPY_MODEL_1062a8535e8741d2888889891939507e",
            "value": 0.05
          }
        },
        "4cd1d63a64624bd396390a45b2aa629c": {
          "model_module": "@jupyter-widgets/controls",
          "model_module_version": "1.5.0",
          "model_name": "IntSliderModel",
          "state": {
            "_dom_classes": [],
            "_model_module": "@jupyter-widgets/controls",
            "_model_module_version": "1.5.0",
            "_model_name": "IntSliderModel",
            "_view_count": null,
            "_view_module": "@jupyter-widgets/controls",
            "_view_module_version": "1.5.0",
            "_view_name": "IntSliderView",
            "continuous_update": false,
            "description": "N (no. of nodes)",
            "description_tooltip": null,
            "disabled": false,
            "layout": "IPY_MODEL_db29c8e4f8e84b8a8887740cb21851ff",
            "max": 1000,
            "min": 100,
            "orientation": "horizontal",
            "readout": true,
            "readout_format": "d",
            "step": 50,
            "style": "IPY_MODEL_d0a67cc2033743a6bdbf315c672c0eaa",
            "value": 100
          }
        },
        "516bf51e8d8b437897954d5fe43e3fcb": {
          "model_module": "@jupyter-widgets/controls",
          "model_module_version": "1.5.0",
          "model_name": "DescriptionStyleModel",
          "state": {
            "_model_module": "@jupyter-widgets/controls",
            "_model_module_version": "1.5.0",
            "_model_name": "DescriptionStyleModel",
            "_view_count": null,
            "_view_module": "@jupyter-widgets/base",
            "_view_module_version": "1.2.0",
            "_view_name": "StyleView",
            "description_width": ""
          }
        },
        "71e442f9ac2f44279395b02219c1a36e": {
          "model_module": "@jupyter-widgets/controls",
          "model_module_version": "1.5.0",
          "model_name": "VBoxModel",
          "state": {
            "_dom_classes": [
              "widget-interact"
            ],
            "_model_module": "@jupyter-widgets/controls",
            "_model_module_version": "1.5.0",
            "_model_name": "VBoxModel",
            "_view_count": null,
            "_view_module": "@jupyter-widgets/controls",
            "_view_module_version": "1.5.0",
            "_view_name": "VBoxView",
            "box_style": "",
            "children": [
              "IPY_MODEL_a6b74ac7b5a84040ac580cb090659113",
              "IPY_MODEL_4cd1d63a64624bd396390a45b2aa629c",
              "IPY_MODEL_420466f63284418a8b6327c1a414cb06",
              "IPY_MODEL_1780f2b8237246c0830193af0db89e9f",
              "IPY_MODEL_30da8018b84a4057a4aab0e14d507d55",
              "IPY_MODEL_c5d1dc921d7c4296ad23ea548134a8dc"
            ],
            "layout": "IPY_MODEL_7bdbc35222e748f89232b55a7d7eb1e4"
          }
        },
        "7bdbc35222e748f89232b55a7d7eb1e4": {
          "model_module": "@jupyter-widgets/base",
          "model_module_version": "1.2.0",
          "model_name": "LayoutModel",
          "state": {
            "_model_module": "@jupyter-widgets/base",
            "_model_module_version": "1.2.0",
            "_model_name": "LayoutModel",
            "_view_count": null,
            "_view_module": "@jupyter-widgets/base",
            "_view_module_version": "1.2.0",
            "_view_name": "LayoutView",
            "align_content": null,
            "align_items": null,
            "align_self": null,
            "border": null,
            "bottom": null,
            "display": null,
            "flex": null,
            "flex_flow": null,
            "grid_area": null,
            "grid_auto_columns": null,
            "grid_auto_flow": null,
            "grid_auto_rows": null,
            "grid_column": null,
            "grid_gap": null,
            "grid_row": null,
            "grid_template_areas": null,
            "grid_template_columns": null,
            "grid_template_rows": null,
            "height": null,
            "justify_content": null,
            "justify_items": null,
            "left": null,
            "margin": null,
            "max_height": null,
            "max_width": null,
            "min_height": null,
            "min_width": null,
            "object_fit": null,
            "object_position": null,
            "order": null,
            "overflow": null,
            "overflow_x": null,
            "overflow_y": null,
            "padding": null,
            "right": null,
            "top": null,
            "visibility": null,
            "width": null
          }
        },
        "a6b74ac7b5a84040ac580cb090659113": {
          "model_module": "@jupyter-widgets/controls",
          "model_module_version": "1.5.0",
          "model_name": "IntSliderModel",
          "state": {
            "_dom_classes": [],
            "_model_module": "@jupyter-widgets/controls",
            "_model_module_version": "1.5.0",
            "_model_name": "IntSliderModel",
            "_view_count": null,
            "_view_module": "@jupyter-widgets/controls",
            "_view_module_version": "1.5.0",
            "_view_name": "IntSliderView",
            "continuous_update": false,
            "description": "S (no. of simulations)",
            "description_tooltip": null,
            "disabled": false,
            "layout": "IPY_MODEL_db29c8e4f8e84b8a8887740cb21851ff",
            "max": 500,
            "min": 10,
            "orientation": "horizontal",
            "readout": true,
            "readout_format": "d",
            "step": 10,
            "style": "IPY_MODEL_3d83efab8fa74e51b9904445c9e899f7",
            "value": 10
          }
        },
        "b51fa0076a2546a2ab56e048c01aba64": {
          "model_module": "@jupyter-widgets/controls",
          "model_module_version": "1.5.0",
          "model_name": "DescriptionStyleModel",
          "state": {
            "_model_module": "@jupyter-widgets/controls",
            "_model_module_version": "1.5.0",
            "_model_name": "DescriptionStyleModel",
            "_view_count": null,
            "_view_module": "@jupyter-widgets/base",
            "_view_module_version": "1.2.0",
            "_view_name": "StyleView",
            "description_width": ""
          }
        },
        "bdacdb73345d4d1a8b4a56d0b8ca21bc": {
          "model_module": "@jupyter-widgets/base",
          "model_module_version": "1.2.0",
          "model_name": "LayoutModel",
          "state": {
            "_model_module": "@jupyter-widgets/base",
            "_model_module_version": "1.2.0",
            "_model_name": "LayoutModel",
            "_view_count": null,
            "_view_module": "@jupyter-widgets/base",
            "_view_module_version": "1.2.0",
            "_view_name": "LayoutView",
            "align_content": null,
            "align_items": null,
            "align_self": null,
            "border": null,
            "bottom": null,
            "display": null,
            "flex": null,
            "flex_flow": null,
            "grid_area": null,
            "grid_auto_columns": null,
            "grid_auto_flow": null,
            "grid_auto_rows": null,
            "grid_column": null,
            "grid_gap": null,
            "grid_row": null,
            "grid_template_areas": null,
            "grid_template_columns": null,
            "grid_template_rows": null,
            "height": null,
            "justify_content": null,
            "justify_items": null,
            "left": null,
            "margin": null,
            "max_height": null,
            "max_width": null,
            "min_height": null,
            "min_width": null,
            "object_fit": null,
            "object_position": null,
            "order": null,
            "overflow": null,
            "overflow_x": null,
            "overflow_y": null,
            "padding": null,
            "right": null,
            "top": null,
            "visibility": null,
            "width": null
          }
        },
        "c5d1dc921d7c4296ad23ea548134a8dc": {
          "model_module": "@jupyter-widgets/output",
          "model_module_version": "1.0.0",
          "model_name": "OutputModel",
          "state": {
            "_dom_classes": [],
            "_model_module": "@jupyter-widgets/output",
            "_model_module_version": "1.0.0",
            "_model_name": "OutputModel",
            "_view_count": null,
            "_view_module": "@jupyter-widgets/output",
            "_view_module_version": "1.0.0",
            "_view_name": "OutputView",
            "layout": "IPY_MODEL_bdacdb73345d4d1a8b4a56d0b8ca21bc",
            "msg_id": "",
            "outputs": [
              {
                "data": {
                  "image/png": "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\n",
                  "text/plain": "<Figure size 720x432 with 1 Axes>"
                },
                "metadata": {
                  "needs_background": "light"
                },
                "output_type": "display_data"
              }
            ]
          }
        },
        "d0a67cc2033743a6bdbf315c672c0eaa": {
          "model_module": "@jupyter-widgets/controls",
          "model_module_version": "1.5.0",
          "model_name": "SliderStyleModel",
          "state": {
            "_model_module": "@jupyter-widgets/controls",
            "_model_module_version": "1.5.0",
            "_model_name": "SliderStyleModel",
            "_view_count": null,
            "_view_module": "@jupyter-widgets/base",
            "_view_module_version": "1.2.0",
            "_view_name": "StyleView",
            "description_width": "",
            "handle_color": null
          }
        },
        "db29c8e4f8e84b8a8887740cb21851ff": {
          "model_module": "@jupyter-widgets/base",
          "model_module_version": "1.2.0",
          "model_name": "LayoutModel",
          "state": {
            "_model_module": "@jupyter-widgets/base",
            "_model_module_version": "1.2.0",
            "_model_name": "LayoutModel",
            "_view_count": null,
            "_view_module": "@jupyter-widgets/base",
            "_view_module_version": "1.2.0",
            "_view_name": "LayoutView",
            "align_content": null,
            "align_items": null,
            "align_self": null,
            "border": null,
            "bottom": null,
            "display": null,
            "flex": null,
            "flex_flow": null,
            "grid_area": null,
            "grid_auto_columns": null,
            "grid_auto_flow": null,
            "grid_auto_rows": null,
            "grid_column": null,
            "grid_gap": null,
            "grid_row": null,
            "grid_template_areas": null,
            "grid_template_columns": null,
            "grid_template_rows": null,
            "height": null,
            "justify_content": null,
            "justify_items": null,
            "left": null,
            "margin": null,
            "max_height": null,
            "max_width": null,
            "min_height": null,
            "min_width": null,
            "object_fit": null,
            "object_position": null,
            "order": null,
            "overflow": null,
            "overflow_x": null,
            "overflow_y": null,
            "padding": null,
            "right": null,
            "top": null,
            "visibility": null,
            "width": "640px"
          }
        }
      }
    }
  },
  "nbformat": 4,
  "nbformat_minor": 0
}
